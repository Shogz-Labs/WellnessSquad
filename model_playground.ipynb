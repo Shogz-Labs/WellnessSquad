{
 "cells": [
  {
   "cell_type": "markdown",
   "metadata": {},
   "source": [
    "# Wellness Squad: Model Playground\n",
    "This notebook has been developed to test the utility functions (utils.py) with our pretrained suicide classification models.\n",
    "Please make note of the following if you intend to run this notebook:\n",
    "1. You will need to obtain the models by running the training programs within the Notebooks directory.\n",
    "2. Scraping Reddit using our helper method will not work on Google Colaboratory; their IP has been blacklisted."
   ]
  },
  {
   "cell_type": "code",
   "execution_count": 1,
   "metadata": {},
   "outputs": [
    {
     "name": "stderr",
     "output_type": "stream",
     "text": [
      "Some weights of the model checkpoint at cardiffnlp/twitter-roberta-base-sentiment-latest were not used when initializing RobertaForSequenceClassification: ['roberta.pooler.dense.bias', 'roberta.pooler.dense.weight']\n",
      "- This IS expected if you are initializing RobertaForSequenceClassification from the checkpoint of a model trained on another task or with another architecture (e.g. initializing a BertForSequenceClassification model from a BertForPreTraining model).\n",
      "- This IS NOT expected if you are initializing RobertaForSequenceClassification from the checkpoint of a model that you expect to be exactly identical (initializing a BertForSequenceClassification model from a BertForSequenceClassification model).\n"
     ]
    }
   ],
   "source": [
    "import joblib\n",
    "from utils import predict_ideation, scrape_quora, scrape_reddit, scrape_youtube_transcript"
   ]
  },
  {
   "cell_type": "code",
   "execution_count": 2,
   "metadata": {},
   "outputs": [],
   "source": [
    "rf = joblib.load(r'Models\\rf_base_model.pkl')\n",
    "lr = joblib.load(r'Models\\lr_base_model.pkl')\n",
    "gbc = joblib.load(r'Models\\gbc_base_model.pkl')\n",
    "vc = joblib.load(r'Models\\vc_base_model.pkl')"
   ]
  },
  {
   "cell_type": "code",
   "execution_count": 3,
   "metadata": {},
   "outputs": [
    {
     "name": "stderr",
     "output_type": "stream",
     "text": [
      "[Parallel(n_jobs=8)]: Using backend ThreadingBackend with 8 concurrent workers.\n",
      "[Parallel(n_jobs=8)]: Done  34 tasks      | elapsed:    0.0s\n",
      "[Parallel(n_jobs=8)]: Done 100 out of 100 | elapsed:    0.0s finished\n",
      "[Parallel(n_jobs=8)]: Using backend ThreadingBackend with 8 concurrent workers.\n",
      "[Parallel(n_jobs=8)]: Done  34 tasks      | elapsed:    0.0s\n",
      "[Parallel(n_jobs=8)]: Done 100 out of 100 | elapsed:    0.0s finished\n"
     ]
    },
    {
     "name": "stdout",
     "output_type": "stream",
     "text": [
      "\n",
      "Message The derivative of y=x^2 is 2x. has been labeled as: ['non-suicide']\n",
      "\t Non-Suicide Approximation (%): 0.98\n",
      " \t Suicide Approximation (%): 0.02\n",
      "\n",
      "Message Only optimists commit suicide, optimists who no longer succeed at being optimists. The others, having no reason to live, why would they have any to die? has been labeled as: ['suicide']\n",
      "\t Non-Suicide Approximation (%): 0.47\n",
      " \t Suicide Approximation (%): 0.53\n",
      "\n"
     ]
    }
   ],
   "source": [
    "## Test: Predicting a list of strings {non-suicide, suicide}\n",
    "print(predict_ideation(\n",
    "    rf,\n",
    "    ['The derivative of y=x^2 is 2x.',\n",
    "     'Only optimists commit suicide, optimists who no longer succeed at being optimists. The others, having no reason to live, why would they have any to die?'],\n",
    "    False\n",
    "))"
   ]
  },
  {
   "cell_type": "code",
   "execution_count": 4,
   "metadata": {},
   "outputs": [
    {
     "name": "stdout",
     "output_type": "stream",
     "text": [
      "Requesting information (json file) from https://www.reddit.com/r/yorku/new...\n",
      "Number of scraped posted: 25\n",
      "---------- Analysis of Comment 1 ----------\n"
     ]
    },
    {
     "name": "stderr",
     "output_type": "stream",
     "text": [
      "[Parallel(n_jobs=8)]: Using backend ThreadingBackend with 8 concurrent workers.\n",
      "[Parallel(n_jobs=8)]: Done  34 tasks      | elapsed:    0.0s\n",
      "[Parallel(n_jobs=8)]: Done 100 out of 100 | elapsed:    0.0s finished\n",
      "[Parallel(n_jobs=8)]: Using backend ThreadingBackend with 8 concurrent workers.\n",
      "[Parallel(n_jobs=8)]: Done  34 tasks      | elapsed:    0.0s\n",
      "[Parallel(n_jobs=8)]: Done 100 out of 100 | elapsed:    0.0s finished\n"
     ]
    },
    {
     "name": "stdout",
     "output_type": "stream",
     "text": [
      "\n",
      "Message For OSAP, does 9 credit course count as 3 courses?? Will OSAP know that course is worth 3X? Thanks.  has been labeled as: ['non-suicide']\n",
      "\t Non-Suicide Approximation (%): 0.9\n",
      " \t Suicide Approximation (%): 0.1\n",
      "\n",
      "---------- Analysis of Comment 2 ----------\n"
     ]
    },
    {
     "name": "stderr",
     "output_type": "stream",
     "text": [
      "[Parallel(n_jobs=8)]: Using backend ThreadingBackend with 8 concurrent workers.\n",
      "[Parallel(n_jobs=8)]: Done  34 tasks      | elapsed:    0.0s\n",
      "[Parallel(n_jobs=8)]: Done 100 out of 100 | elapsed:    0.0s finished\n",
      "[Parallel(n_jobs=8)]: Using backend ThreadingBackend with 8 concurrent workers.\n",
      "[Parallel(n_jobs=8)]: Done  34 tasks      | elapsed:    0.0s\n",
      "[Parallel(n_jobs=8)]: Done 100 out of 100 | elapsed:    0.0s finished\n"
     ]
    },
    {
     "name": "stdout",
     "output_type": "stream",
     "text": [
      "\n",
      "Message Hello, I am considering applying to York and u/TMU. I have a BA Computer Science and Computer Security and Digital Media offer from York and a TMU New Media offer. I want to do coding and art, so I applied for VR, Game, and stuff like that. If I get into TMU, I want to do CS as a minor, so where do you think I should go for prospects? Like employment, co-op, reputation, etc.... has been labeled as: ['non-suicide']\n",
      "\t Non-Suicide Approximation (%): 0.81\n",
      " \t Suicide Approximation (%): 0.19\n",
      "\n",
      "---------- Analysis of Comment 3 ----------\n"
     ]
    },
    {
     "name": "stderr",
     "output_type": "stream",
     "text": [
      "[Parallel(n_jobs=8)]: Using backend ThreadingBackend with 8 concurrent workers.\n",
      "[Parallel(n_jobs=8)]: Done  34 tasks      | elapsed:    0.0s\n",
      "[Parallel(n_jobs=8)]: Done 100 out of 100 | elapsed:    0.0s finished\n",
      "[Parallel(n_jobs=8)]: Using backend ThreadingBackend with 8 concurrent workers.\n",
      "[Parallel(n_jobs=8)]: Done  34 tasks      | elapsed:    0.0s\n",
      "[Parallel(n_jobs=8)]: Done 100 out of 100 | elapsed:    0.0s finished\n"
     ]
    },
    {
     "name": "stdout",
     "output_type": "stream",
     "text": [
      "\n",
      "Message I used to teach in Continuing Studies in a couple programs. Ask me anything and I'll give you raw truth (that doesn't violate rules of laws, obviously).\n",
      "\n",
      "P.s. Yes, this is a burner account, for fear of getting doxxed.  has been labeled as: ['non-suicide']\n",
      "\t Non-Suicide Approximation (%): 0.82\n",
      " \t Suicide Approximation (%): 0.18\n",
      "\n",
      "---------- Analysis of Comment 4 ----------\n"
     ]
    },
    {
     "name": "stderr",
     "output_type": "stream",
     "text": [
      "[Parallel(n_jobs=8)]: Using backend ThreadingBackend with 8 concurrent workers.\n",
      "[Parallel(n_jobs=8)]: Done  34 tasks      | elapsed:    0.0s\n",
      "[Parallel(n_jobs=8)]: Done 100 out of 100 | elapsed:    0.0s finished\n",
      "[Parallel(n_jobs=8)]: Using backend ThreadingBackend with 8 concurrent workers.\n",
      "[Parallel(n_jobs=8)]: Done  34 tasks      | elapsed:    0.0s\n",
      "[Parallel(n_jobs=8)]: Done 100 out of 100 | elapsed:    0.0s finished\n"
     ]
    },
    {
     "name": "stdout",
     "output_type": "stream",
     "text": [
      "\n",
      "Message I applied to engineering in February (after the deadline), I got accepted a few days later. However, I have yet to receive a program guarantee form as lassonde suggests to fill one out of you’re intrested in software, computer, electrical eng. Should I contact them?  has been labeled as: ['non-suicide']\n",
      "\t Non-Suicide Approximation (%): 0.87\n",
      " \t Suicide Approximation (%): 0.13\n",
      "\n",
      "---------- Analysis of Comment 5 ----------\n"
     ]
    },
    {
     "name": "stderr",
     "output_type": "stream",
     "text": [
      "[Parallel(n_jobs=8)]: Using backend ThreadingBackend with 8 concurrent workers.\n",
      "[Parallel(n_jobs=8)]: Done  34 tasks      | elapsed:    0.0s\n",
      "[Parallel(n_jobs=8)]: Done 100 out of 100 | elapsed:    0.0s finished\n",
      "[Parallel(n_jobs=8)]: Using backend ThreadingBackend with 8 concurrent workers.\n",
      "[Parallel(n_jobs=8)]: Done  34 tasks      | elapsed:    0.0s\n",
      "[Parallel(n_jobs=8)]: Done 100 out of 100 | elapsed:    0.0s finished\n"
     ]
    },
    {
     "name": "stdout",
     "output_type": "stream",
     "text": [
      "\n",
      "Message I have a development position interview at the SSB and I dont know what to expect in terms of interview questions! it says its 45 mins long... what could they possibly ask me... im super scared. pls lmk if anyone has any idea!! has been labeled as: ['non-suicide']\n",
      "\t Non-Suicide Approximation (%): 0.75\n",
      " \t Suicide Approximation (%): 0.25\n",
      "\n",
      "---------- Analysis of Comment 6 ----------\n"
     ]
    },
    {
     "name": "stderr",
     "output_type": "stream",
     "text": [
      "[Parallel(n_jobs=8)]: Using backend ThreadingBackend with 8 concurrent workers.\n",
      "[Parallel(n_jobs=8)]: Done  34 tasks      | elapsed:    0.0s\n",
      "[Parallel(n_jobs=8)]: Done 100 out of 100 | elapsed:    0.0s finished\n",
      "[Parallel(n_jobs=8)]: Using backend ThreadingBackend with 8 concurrent workers.\n",
      "[Parallel(n_jobs=8)]: Done  34 tasks      | elapsed:    0.0s\n",
      "[Parallel(n_jobs=8)]: Done 100 out of 100 | elapsed:    0.0s finished\n"
     ]
    },
    {
     "name": "stdout",
     "output_type": "stream",
     "text": [
      "\n",
      "Message My exam took place the morning before the university emailed yorku students about the TCO policy. I refrained from dropping the course because the email stated that Yorku was still working with OSAP to figure out how the TCO policy would be implemented which was stated in their email, otherwise i would’ve already dropped the course. A finalized grade was sent to my transcript, for some reason I had this uneasy feeling that I wouldn’t be able to drop my course hence I attempted to do so and it gave me an error stating that I couldn’t drop my course because my grade had been finalized. I hope this is normal and I didn’t fuck myself over by not dropping the course before grades were finalized has been labeled as: ['suicide']\n",
      "\t Non-Suicide Approximation (%): 0.47\n",
      " \t Suicide Approximation (%): 0.53\n",
      "\n",
      "---------- Analysis of Comment 7 ----------\n"
     ]
    },
    {
     "name": "stderr",
     "output_type": "stream",
     "text": [
      "[Parallel(n_jobs=8)]: Using backend ThreadingBackend with 8 concurrent workers.\n",
      "[Parallel(n_jobs=8)]: Done  34 tasks      | elapsed:    0.0s\n",
      "[Parallel(n_jobs=8)]: Done 100 out of 100 | elapsed:    0.0s finished\n",
      "[Parallel(n_jobs=8)]: Using backend ThreadingBackend with 8 concurrent workers.\n",
      "[Parallel(n_jobs=8)]: Done  34 tasks      | elapsed:    0.0s\n",
      "[Parallel(n_jobs=8)]: Done 100 out of 100 | elapsed:    0.0s finished\n"
     ]
    },
    {
     "name": "stdout",
     "output_type": "stream",
     "text": [
      "\n",
      "Message Anyone taken HREQ 1800? How was it? If possible, could you please break down the course outline for me? Thanks! has been labeled as: ['non-suicide']\n",
      "\t Non-Suicide Approximation (%): 0.8\n",
      " \t Suicide Approximation (%): 0.2\n",
      "\n",
      "---------- Analysis of Comment 8 ----------\n"
     ]
    },
    {
     "name": "stderr",
     "output_type": "stream",
     "text": [
      "[Parallel(n_jobs=8)]: Using backend ThreadingBackend with 8 concurrent workers.\n",
      "[Parallel(n_jobs=8)]: Done  34 tasks      | elapsed:    0.0s\n",
      "[Parallel(n_jobs=8)]: Done 100 out of 100 | elapsed:    0.0s finished\n",
      "[Parallel(n_jobs=8)]: Using backend ThreadingBackend with 8 concurrent workers.\n",
      "[Parallel(n_jobs=8)]: Done  34 tasks      | elapsed:    0.0s\n",
      "[Parallel(n_jobs=8)]: Done 100 out of 100 | elapsed:    0.0s finished\n"
     ]
    },
    {
     "name": "stdout",
     "output_type": "stream",
     "text": [
      "\n",
      "Message Hey guys! I am still yet to receive my participations marks however my current total out of 100 is 37. I am expecting to fail it because my professor chose to gave me zero on 1300 words assignment because he felt it was copied when it wasn't. \n",
      "\n",
      "My question is what happens if you fail a course? How will it affect me as I have already enrolled in another program at YU for fall. When will I be able to retake this course?  has been labeled as: ['non-suicide']\n",
      "\t Non-Suicide Approximation (%): 0.53\n",
      " \t Suicide Approximation (%): 0.47\n",
      "\n",
      "---------- Analysis of Comment 9 ----------\n"
     ]
    },
    {
     "name": "stderr",
     "output_type": "stream",
     "text": [
      "[Parallel(n_jobs=8)]: Using backend ThreadingBackend with 8 concurrent workers.\n",
      "[Parallel(n_jobs=8)]: Done  34 tasks      | elapsed:    0.0s\n",
      "[Parallel(n_jobs=8)]: Done 100 out of 100 | elapsed:    0.0s finished\n",
      "[Parallel(n_jobs=8)]: Using backend ThreadingBackend with 8 concurrent workers.\n",
      "[Parallel(n_jobs=8)]: Done  34 tasks      | elapsed:    0.0s\n",
      "[Parallel(n_jobs=8)]: Done 100 out of 100 | elapsed:    0.0s finished\n"
     ]
    },
    {
     "name": "stdout",
     "output_type": "stream",
     "text": [
      "\n",
      "Message Cannot find when it start \n",
      " has been labeled as: ['non-suicide']\n",
      "\t Non-Suicide Approximation (%): 0.85\n",
      " \t Suicide Approximation (%): 0.15\n",
      "\n",
      "---------- Analysis of Comment 10 ----------\n"
     ]
    },
    {
     "name": "stderr",
     "output_type": "stream",
     "text": [
      "[Parallel(n_jobs=8)]: Using backend ThreadingBackend with 8 concurrent workers.\n",
      "[Parallel(n_jobs=8)]: Done  34 tasks      | elapsed:    0.0s\n",
      "[Parallel(n_jobs=8)]: Done 100 out of 100 | elapsed:    0.0s finished\n",
      "[Parallel(n_jobs=8)]: Using backend ThreadingBackend with 8 concurrent workers.\n",
      "[Parallel(n_jobs=8)]: Done  34 tasks      | elapsed:    0.0s\n",
      "[Parallel(n_jobs=8)]: Done 100 out of 100 | elapsed:    0.0s finished\n"
     ]
    },
    {
     "name": "stdout",
     "output_type": "stream",
     "text": [
      "\n",
      "Message Hello. I’m selling Microeconomics for Life second edition Abi J. Cohen physical textbook.  has been labeled as: ['non-suicide']\n",
      "\t Non-Suicide Approximation (%): 0.78\n",
      " \t Suicide Approximation (%): 0.22\n",
      "\n",
      "---------- Analysis of Comment 11 ----------\n"
     ]
    },
    {
     "name": "stderr",
     "output_type": "stream",
     "text": [
      "[Parallel(n_jobs=8)]: Using backend ThreadingBackend with 8 concurrent workers.\n",
      "[Parallel(n_jobs=8)]: Done  34 tasks      | elapsed:    0.0s\n",
      "[Parallel(n_jobs=8)]: Done 100 out of 100 | elapsed:    0.0s finished\n",
      "[Parallel(n_jobs=8)]: Using backend ThreadingBackend with 8 concurrent workers.\n",
      "[Parallel(n_jobs=8)]: Done  34 tasks      | elapsed:    0.0s\n",
      "[Parallel(n_jobs=8)]: Done 100 out of 100 | elapsed:    0.0s finished\n"
     ]
    },
    {
     "name": "stdout",
     "output_type": "stream",
     "text": [
      "\n",
      "Message This is a very urgent question for me, so please if you know the answer to my question, reach out 🙏🏻\n",
      " has been labeled as: ['non-suicide']\n",
      "\t Non-Suicide Approximation (%): 0.91\n",
      " \t Suicide Approximation (%): 0.09\n",
      "\n",
      "---------- Analysis of Comment 12 ----------\n"
     ]
    },
    {
     "name": "stderr",
     "output_type": "stream",
     "text": [
      "[Parallel(n_jobs=8)]: Using backend ThreadingBackend with 8 concurrent workers.\n",
      "[Parallel(n_jobs=8)]: Done  34 tasks      | elapsed:    0.0s\n",
      "[Parallel(n_jobs=8)]: Done 100 out of 100 | elapsed:    0.0s finished\n",
      "[Parallel(n_jobs=8)]: Using backend ThreadingBackend with 8 concurrent workers.\n",
      "[Parallel(n_jobs=8)]: Done  34 tasks      | elapsed:    0.0s\n",
      "[Parallel(n_jobs=8)]: Done 100 out of 100 | elapsed:    0.0s finished\n"
     ]
    },
    {
     "name": "stdout",
     "output_type": "stream",
     "text": [
      "\n",
      "Message How do I find a document with my name for York u with proof of enrolment. All I have seen so far do not actually have my name on it. has been labeled as: ['non-suicide']\n",
      "\t Non-Suicide Approximation (%): 0.81\n",
      " \t Suicide Approximation (%): 0.19\n",
      "\n",
      "---------- Analysis of Comment 13 ----------\n"
     ]
    },
    {
     "name": "stderr",
     "output_type": "stream",
     "text": [
      "[Parallel(n_jobs=8)]: Using backend ThreadingBackend with 8 concurrent workers.\n",
      "[Parallel(n_jobs=8)]: Done  34 tasks      | elapsed:    0.0s\n",
      "[Parallel(n_jobs=8)]: Done 100 out of 100 | elapsed:    0.0s finished\n",
      "[Parallel(n_jobs=8)]: Using backend ThreadingBackend with 8 concurrent workers.\n",
      "[Parallel(n_jobs=8)]: Done  34 tasks      | elapsed:    0.0s\n",
      "[Parallel(n_jobs=8)]: Done 100 out of 100 | elapsed:    0.0s finished\n"
     ]
    },
    {
     "name": "stdout",
     "output_type": "stream",
     "text": [
      "\n",
      "Message Hello, I am just wrapping up my second year at YorkU with 60 credits completed and a cgpa of 8.67. I am currently in process of taking summer school as I have a neat job that relates to my major lined up in fall-winter. Additionally, I am starting to tackle the LSAT and I can see why people find it tough lol. Plans for the future and summer are to continue to build my work experience (non-law related) and start a club (non-law related), become an executive of a club (non-law related), and start a non-profit organization relating to law. Any tips on how to start studying for the lsat is welcomed or advice on building softs. has been labeled as: ['non-suicide']\n",
      "\t Non-Suicide Approximation (%): 0.66\n",
      " \t Suicide Approximation (%): 0.34\n",
      "\n",
      "---------- Analysis of Comment 14 ----------\n"
     ]
    },
    {
     "name": "stderr",
     "output_type": "stream",
     "text": [
      "[Parallel(n_jobs=8)]: Using backend ThreadingBackend with 8 concurrent workers.\n",
      "[Parallel(n_jobs=8)]: Done  34 tasks      | elapsed:    0.0s\n",
      "[Parallel(n_jobs=8)]: Done 100 out of 100 | elapsed:    0.0s finished\n",
      "[Parallel(n_jobs=8)]: Using backend ThreadingBackend with 8 concurrent workers.\n",
      "[Parallel(n_jobs=8)]: Done  34 tasks      | elapsed:    0.0s\n",
      "[Parallel(n_jobs=8)]: Done 100 out of 100 | elapsed:    0.0s finished\n"
     ]
    },
    {
     "name": "stdout",
     "output_type": "stream",
     "text": [
      "\n",
      "Message soo after this semester my cumulative GPA would be 3.96666667. will i get kicked out or is this rounded up to a 4.0? i’m freaking out please any help would be appreciated  has been labeled as: ['non-suicide']\n",
      "\t Non-Suicide Approximation (%): 0.62\n",
      " \t Suicide Approximation (%): 0.38\n",
      "\n",
      "---------- Analysis of Comment 15 ----------\n"
     ]
    },
    {
     "name": "stderr",
     "output_type": "stream",
     "text": [
      "[Parallel(n_jobs=8)]: Using backend ThreadingBackend with 8 concurrent workers.\n",
      "[Parallel(n_jobs=8)]: Done  34 tasks      | elapsed:    0.0s\n",
      "[Parallel(n_jobs=8)]: Done 100 out of 100 | elapsed:    0.0s finished\n",
      "[Parallel(n_jobs=8)]: Using backend ThreadingBackend with 8 concurrent workers.\n",
      "[Parallel(n_jobs=8)]: Done  34 tasks      | elapsed:    0.0s\n",
      "[Parallel(n_jobs=8)]: Done 100 out of 100 | elapsed:    0.0s finished\n"
     ]
    },
    {
     "name": "stdout",
     "output_type": "stream",
     "text": [
      "\n",
      "Message Hey everyone,\n",
      "\n",
      "Exam season was stressful, but now that it's behind us, I was thinking it might be nice to unwind together.\n",
      "\n",
      "So, I'm proposing a post-exam smoke session. Nothing too crazy, just smoke some weed and listen to chill music and celebrate the end of the semester. Whether you're a seasoned smoker or a newbie, all are welcome!\n",
      "\n",
      "Cheers! 🌿🔥 has been labeled as: ['non-suicide']\n",
      "\t Non-Suicide Approximation (%): 0.67\n",
      " \t Suicide Approximation (%): 0.33\n",
      "\n",
      "---------- Analysis of Comment 16 ----------\n"
     ]
    },
    {
     "name": "stderr",
     "output_type": "stream",
     "text": [
      "[Parallel(n_jobs=8)]: Using backend ThreadingBackend with 8 concurrent workers.\n",
      "[Parallel(n_jobs=8)]: Done  34 tasks      | elapsed:    0.0s\n",
      "[Parallel(n_jobs=8)]: Done 100 out of 100 | elapsed:    0.0s finished\n",
      "[Parallel(n_jobs=8)]: Using backend ThreadingBackend with 8 concurrent workers.\n",
      "[Parallel(n_jobs=8)]: Done  34 tasks      | elapsed:    0.0s\n",
      "[Parallel(n_jobs=8)]: Done 100 out of 100 | elapsed:    0.0s finished\n"
     ]
    },
    {
     "name": "stdout",
     "output_type": "stream",
     "text": [
      "\n",
      "Message all I wanna know is if I can skip tomorrows exam and take it later (even though I have completed all assignments) has been labeled as: ['non-suicide']\n",
      "\t Non-Suicide Approximation (%): 0.8\n",
      " \t Suicide Approximation (%): 0.2\n",
      "\n",
      "---------- Analysis of Comment 17 ----------\n"
     ]
    },
    {
     "name": "stderr",
     "output_type": "stream",
     "text": [
      "[Parallel(n_jobs=8)]: Using backend ThreadingBackend with 8 concurrent workers.\n",
      "[Parallel(n_jobs=8)]: Done  34 tasks      | elapsed:    0.0s\n",
      "[Parallel(n_jobs=8)]: Done 100 out of 100 | elapsed:    0.0s finished\n",
      "[Parallel(n_jobs=8)]: Using backend ThreadingBackend with 8 concurrent workers.\n",
      "[Parallel(n_jobs=8)]: Done  34 tasks      | elapsed:    0.0s\n",
      "[Parallel(n_jobs=8)]: Done 100 out of 100 | elapsed:    0.0s finished\n"
     ]
    },
    {
     "name": "stdout",
     "output_type": "stream",
     "text": [
      "\n",
      "Message Thank you York U strike! It worked out in my favour. I was able to take my assessed grade and finish the course I was taking. Now I have the whole summer to myself to work and save up for Teacher's College this September!\n",
      "\n",
      "What about you guys? Did the strike work out in your favour too?\n",
      "\n",
      "Have a splendid day you guys! :) has been labeled as: ['non-suicide']\n",
      "\t Non-Suicide Approximation (%): 0.69\n",
      " \t Suicide Approximation (%): 0.31\n",
      "\n",
      "---------- Analysis of Comment 18 ----------\n"
     ]
    },
    {
     "name": "stderr",
     "output_type": "stream",
     "text": [
      "[Parallel(n_jobs=8)]: Using backend ThreadingBackend with 8 concurrent workers.\n",
      "[Parallel(n_jobs=8)]: Done  34 tasks      | elapsed:    0.0s\n",
      "[Parallel(n_jobs=8)]: Done 100 out of 100 | elapsed:    0.0s finished\n",
      "[Parallel(n_jobs=8)]: Using backend ThreadingBackend with 8 concurrent workers.\n",
      "[Parallel(n_jobs=8)]: Done  34 tasks      | elapsed:    0.0s\n",
      "[Parallel(n_jobs=8)]: Done 100 out of 100 | elapsed:    0.0s finished\n"
     ]
    },
    {
     "name": "stdout",
     "output_type": "stream",
     "text": [
      "\n",
      "Message &amp;#x200B;\n",
      "\n",
      "[I don't understand what documents they are asking from me. For context, I took 2 prerequisite courses from a virtual school for the prerequisites required for my transfer. I don't understand where to find the proof of enrolment document, or what they're asking for. Can anyone help?](https://preview.redd.it/a5nkvokpzhwc1.png?width=442&amp;format=png&amp;auto=webp&amp;s=59b7e7f2264c4db6d88da557520362e89aa7ec25) has been labeled as: ['non-suicide']\n",
      "\t Non-Suicide Approximation (%): 0.82\n",
      " \t Suicide Approximation (%): 0.18\n",
      "\n",
      "---------- Analysis of Comment 19 ----------\n"
     ]
    },
    {
     "name": "stderr",
     "output_type": "stream",
     "text": [
      "[Parallel(n_jobs=8)]: Using backend ThreadingBackend with 8 concurrent workers.\n",
      "[Parallel(n_jobs=8)]: Done  34 tasks      | elapsed:    0.0s\n",
      "[Parallel(n_jobs=8)]: Done 100 out of 100 | elapsed:    0.0s finished\n",
      "[Parallel(n_jobs=8)]: Using backend ThreadingBackend with 8 concurrent workers.\n",
      "[Parallel(n_jobs=8)]: Done  34 tasks      | elapsed:    0.0s\n",
      "[Parallel(n_jobs=8)]: Done 100 out of 100 | elapsed:    0.0s finished\n"
     ]
    },
    {
     "name": "stdout",
     "output_type": "stream",
     "text": [
      "\n",
      "Message Does anyone know how I can change my email that I get sent emails to? I made the dumb decision of applying to York through my tdsb school board email which has since been deleted, but all York emails I am supposed to be getting are still being sent to that email and I have no idea how to change it. has been labeled as: ['non-suicide']\n",
      "\t Non-Suicide Approximation (%): 0.54\n",
      " \t Suicide Approximation (%): 0.46\n",
      "\n",
      "---------- Analysis of Comment 20 ----------\n"
     ]
    },
    {
     "name": "stderr",
     "output_type": "stream",
     "text": [
      "[Parallel(n_jobs=8)]: Using backend ThreadingBackend with 8 concurrent workers.\n",
      "[Parallel(n_jobs=8)]: Done  34 tasks      | elapsed:    0.0s\n",
      "[Parallel(n_jobs=8)]: Done 100 out of 100 | elapsed:    0.0s finished\n",
      "[Parallel(n_jobs=8)]: Using backend ThreadingBackend with 8 concurrent workers.\n",
      "[Parallel(n_jobs=8)]: Done  34 tasks      | elapsed:    0.0s\n",
      "[Parallel(n_jobs=8)]: Done 100 out of 100 | elapsed:    0.0s finished\n"
     ]
    },
    {
     "name": "stdout",
     "output_type": "stream",
     "text": [
      "\n",
      "Message Out of these universities which is the best for engineering according to you. Out of these which is actually worth it and why. Please let me know your thoughts and thank you.\n",
      "If you have thoughts on any of these universities please let me know  has been labeled as: ['non-suicide']\n",
      "\t Non-Suicide Approximation (%): 0.69\n",
      " \t Suicide Approximation (%): 0.31\n",
      "\n",
      "---------- Analysis of Comment 21 ----------\n"
     ]
    },
    {
     "name": "stderr",
     "output_type": "stream",
     "text": [
      "[Parallel(n_jobs=8)]: Using backend ThreadingBackend with 8 concurrent workers.\n",
      "[Parallel(n_jobs=8)]: Done  34 tasks      | elapsed:    0.0s\n",
      "[Parallel(n_jobs=8)]: Done 100 out of 100 | elapsed:    0.0s finished\n",
      "[Parallel(n_jobs=8)]: Using backend ThreadingBackend with 8 concurrent workers.\n",
      "[Parallel(n_jobs=8)]: Done  34 tasks      | elapsed:    0.0s\n",
      "[Parallel(n_jobs=8)]: Done 100 out of 100 | elapsed:    0.0s finished\n"
     ]
    },
    {
     "name": "stdout",
     "output_type": "stream",
     "text": [
      "\n",
      "Message Out of these universities which is the best for engineering according to you. Out of these which is actually worth it and why. I am an international student and western and queens are really expensive but if they and worth it then I am ready to join. Please let me know your thoughts and thank you.\n",
      "If you have thoughts on any of these universities please let me know  has been labeled as: ['non-suicide']\n",
      "\t Non-Suicide Approximation (%): 0.62\n",
      " \t Suicide Approximation (%): 0.38\n",
      "\n",
      "---------- Analysis of Comment 22 ----------\n"
     ]
    },
    {
     "name": "stderr",
     "output_type": "stream",
     "text": [
      "[Parallel(n_jobs=8)]: Using backend ThreadingBackend with 8 concurrent workers.\n",
      "[Parallel(n_jobs=8)]: Done  34 tasks      | elapsed:    0.0s\n",
      "[Parallel(n_jobs=8)]: Done 100 out of 100 | elapsed:    0.0s finished\n",
      "[Parallel(n_jobs=8)]: Using backend ThreadingBackend with 8 concurrent workers.\n",
      "[Parallel(n_jobs=8)]: Done  34 tasks      | elapsed:    0.0s\n",
      "[Parallel(n_jobs=8)]: Done 100 out of 100 | elapsed:    0.0s finished\n"
     ]
    },
    {
     "name": "stdout",
     "output_type": "stream",
     "text": [
      "\n",
      "Message What avg do I need to get into engineering at York?? On the site it says low to mid 80s but what’s the cut off this year has been labeled as: ['non-suicide']\n",
      "\t Non-Suicide Approximation (%): 0.82\n",
      " \t Suicide Approximation (%): 0.18\n",
      "\n",
      "---------- Analysis of Comment 23 ----------\n"
     ]
    },
    {
     "name": "stderr",
     "output_type": "stream",
     "text": [
      "[Parallel(n_jobs=8)]: Using backend ThreadingBackend with 8 concurrent workers.\n",
      "[Parallel(n_jobs=8)]: Done  34 tasks      | elapsed:    0.0s\n",
      "[Parallel(n_jobs=8)]: Done 100 out of 100 | elapsed:    0.0s finished\n",
      "[Parallel(n_jobs=8)]: Using backend ThreadingBackend with 8 concurrent workers.\n",
      "[Parallel(n_jobs=8)]: Done  34 tasks      | elapsed:    0.0s\n",
      "[Parallel(n_jobs=8)]: Done 100 out of 100 | elapsed:    0.0s finished\n"
     ]
    },
    {
     "name": "stdout",
     "output_type": "stream",
     "text": [
      "\n",
      "Message I am try to get permission for LOP and there is  ‘York Course Exclusion(Y/N)’ to be completed by the department. If the department said N, does it mean the course credit cannot transfer from host uni to york credit?  has been labeled as: ['non-suicide']\n",
      "\t Non-Suicide Approximation (%): 0.87\n",
      " \t Suicide Approximation (%): 0.13\n",
      "\n",
      "---------- Analysis of Comment 24 ----------\n"
     ]
    },
    {
     "name": "stderr",
     "output_type": "stream",
     "text": [
      "[Parallel(n_jobs=8)]: Using backend ThreadingBackend with 8 concurrent workers.\n",
      "[Parallel(n_jobs=8)]: Done  34 tasks      | elapsed:    0.0s\n",
      "[Parallel(n_jobs=8)]: Done 100 out of 100 | elapsed:    0.0s finished\n",
      "[Parallel(n_jobs=8)]: Using backend ThreadingBackend with 8 concurrent workers.\n",
      "[Parallel(n_jobs=8)]: Done  34 tasks      | elapsed:    0.0s\n",
      "[Parallel(n_jobs=8)]: Done 100 out of 100 | elapsed:    0.0s finished\n"
     ]
    },
    {
     "name": "stdout",
     "output_type": "stream",
     "text": [
      "\n",
      "Message I am looking for Econ3200 tutor  has been labeled as: ['non-suicide']\n",
      "\t Non-Suicide Approximation (%): 0.77\n",
      " \t Suicide Approximation (%): 0.23\n",
      "\n",
      "---------- Analysis of Comment 25 ----------\n"
     ]
    },
    {
     "name": "stderr",
     "output_type": "stream",
     "text": [
      "[Parallel(n_jobs=8)]: Using backend ThreadingBackend with 8 concurrent workers.\n",
      "[Parallel(n_jobs=8)]: Done  34 tasks      | elapsed:    0.0s\n",
      "[Parallel(n_jobs=8)]: Done 100 out of 100 | elapsed:    0.0s finished\n"
     ]
    },
    {
     "name": "stdout",
     "output_type": "stream",
     "text": [
      "\n",
      "Message this is an email i got explaining how assessed grades work for one of my classes. Im trying to figure out whether i should take the assessed grade or not but i dont understand this divide by 7 thing. I thought its just our grades of the 70% course load is what we finish off with. Can someone explain please has been labeled as: ['non-suicide']\n",
      "\t Non-Suicide Approximation (%): 0.54\n",
      " \t Suicide Approximation (%): 0.46\n",
      "\n"
     ]
    },
    {
     "name": "stderr",
     "output_type": "stream",
     "text": [
      "[Parallel(n_jobs=8)]: Using backend ThreadingBackend with 8 concurrent workers.\n",
      "[Parallel(n_jobs=8)]: Done  34 tasks      | elapsed:    0.0s\n",
      "[Parallel(n_jobs=8)]: Done 100 out of 100 | elapsed:    0.0s finished\n"
     ]
    }
   ],
   "source": [
    "## Test: Classifying reddit posts that were scrapped from Reddit\n",
    "scrape_reddit(\n",
    "    rf,\n",
    "    'yorku',\n",
    "    'new'\n",
    ")"
   ]
  },
  {
   "cell_type": "code",
   "execution_count": 5,
   "metadata": {},
   "outputs": [
    {
     "name": "stdout",
     "output_type": "stream",
     "text": [
      "Sleeping for 5 seconds (page loading)\n",
      "Post #1 has been expanded...\n",
      "Post #2 has been expanded...\n",
      "Post #3 has been expanded...\n",
      "Post #4 has been expanded...\n",
      "Post #5 has been expanded...\n",
      "Post #6 has been expanded...\n",
      "Post #7 has been expanded...\n",
      "Post #8 has been expanded...\n",
      "Post #9 has been expanded...\n",
      "Post #10 has been expanded...\n",
      "Post #11 has been expanded...\n",
      "Post #12 has been expanded...\n",
      "Post #13 has been expanded...\n",
      "Post #14 has been expanded...\n",
      "Not enough post data!! We scraped what was available to us.\n",
      "After pruning, 34 posts (text-only) remain.\n"
     ]
    },
    {
     "name": "stderr",
     "output_type": "stream",
     "text": [
      "[Parallel(n_jobs=8)]: Using backend ThreadingBackend with 8 concurrent workers.\n",
      "[Parallel(n_jobs=8)]: Done  34 tasks      | elapsed:    0.0s\n",
      "[Parallel(n_jobs=8)]: Done 100 out of 100 | elapsed:    0.0s finished\n",
      "[Parallel(n_jobs=8)]: Using backend ThreadingBackend with 8 concurrent workers.\n",
      "[Parallel(n_jobs=8)]: Done  34 tasks      | elapsed:    0.0s\n",
      "[Parallel(n_jobs=8)]: Done 100 out of 100 | elapsed:    0.0s finished\n"
     ]
    },
    {
     "name": "stdout",
     "output_type": "stream",
     "text": [
      "\n",
      "Message You are here for the obvious reason that was right in front of you the whole time that you may or may not want to accept. The reason why you are here is because your parents had sex and reproduced. You are now the child of your parents and it has been this way for thousands of years. Your life span is between 0 to 90 years on average. It shall not be wasted through deep philosophical questions, depression, not accepting the truth of existence, and so forth. Your life should be spent by simply enjoying life itself. Take this advice from a deep thinking highly intelligent programmer and graphic designer. I spent hours in my room alone (not everyday, but often) reading about consciousness, neuroscience, Buddhism, Christianity, and other fields of study that are related to existence in the hopes that I would find some pretty solid evidence of an afterlife. I am going to die anyway at one point wether if I spend hours in my room thinking of death and trying to find evidence for an afterlife or if I spend that time having fun with friends and family instead. After realizing that, I quit thinking so deep and I quit worrying so much about it and instead just simply started living my life to the fullest again. As for the meaning of life, it is completely subjective. Man makes his own meaning. However, there is no objective meaning of life. Here are some rules to follow in order to live a meaningful and enjoyable life.Don’t take it for granted: Out of nowhere, you came out of the whom and you now exist. You have a limited time offer of existence so make the most of it.Don’t live your life based on the opinions of others: Humans are all the same. They are born, they live, and they die. Don't worry about what other people think. Their time is limited just like yours. Live your life the way you want to live it.Only worry and care about those who worry and care about you: Once again, your time is limited. Spend your time with people who are worth spending time with.Find a job you enjoy: Once again, your time is limited. Enjoy your your job or try and find a new job if you don't like your job. Time is money and life is time and money. Spend it wisely.Meet someone new everyday: Talk to anybody. Overtime, you will build memories of talking to all kinds of people and remembering the stories they have told you. You can learn a lot from anybody that you talk to.Have a great love and sex life with someone you care about.Enjoy the little things.Accept that you will die one day: The longer you can't accept death, the more you are already dead. The more you accept death, the more time you will spend being alive and living life.Go with the flow: Go where life takes you and expect nothing good or bad. Life is like a box of chocolates you know.Don’t dwell on the past: The way you think of things determines your future. Focus on the present and accept your past to enjoy your future. has been labeled as: ['suicide']\n",
      "\t Non-Suicide Approximation (%): 0.11\n",
      " \t Suicide Approximation (%): 0.89\n",
      "\n",
      "Message Let’s say you live in Canada, you’re getting squeezed by crazy-high housing costs and your finances could use some serious TLC, but you’ve been putting it off. When you finally do sit down to think about it, you get overwhelmed. Which goal to attack first? You need a budget, a savings plan, a debt-repayment strategy, a better credit score, a plan for retirement and … oh God, it’s too much. To tackle big goals, you have to start small. Here are some simple steps you can take today to get your finances under control. 1. No Offense, But if You Don’t Use This Free Tool, You’re Probably Overpaying on AContinue ReadingLet’s say you live in Canada, you’re getting squeezed by crazy-high housing costs and your finances could use some serious TLC, but you’ve been putting it off. When you finally do sit down to think about it, you get overwhelmed. Which goal to attack first? You need a budget, a savings plan, a debt-repayment strategy, a better credit score, a plan for retirement and … oh God, it’s too much. To tackle big goals, you have to start small. Here are some simple steps you can take today to get your finances under control. 1. No Offense, But if You Don’t Use This Free Tool, You’re Probably Overpaying on Amazon Wouldn’t it be nice if someone automatically slashed the prices of things in your online shopping cart at places like Amazon? That’s exactly what this free service does. Just add it to your browser for free, and before you check out, it’ll look for available promo codes that could instantly save you money on whatever’s in your cart. Let’s say you’re shopping for a new smart vacuum, and you assume you’ve found the best price. Once you’re about to pay, any available coupon codes will automatically be applied to your order. In the last year, this has saved people $950 million. You can get started in just a few clicks to help make sure you don’t miss out on a deal again. 2. You Don’t Actually Have to Pay Full Price — Ever Most rich people didn’t get that way by accident. They watch their money like a hawk. You’d be surprised at the lengths even the wealthiest people go to to save a buck — they almost never pay full price. Good news: The rest of us don’t have to, either. A free tool called Rakuten.ca works with just about every online store you shop at, and they can make sure you get some cash back every time you buy — up to 15% cash back at stores like Walmart, Old Navy, Adidas, Best Buy and more. It takes less than a minute to open a Rakuten account and start shopping like you normally would. You just need an email address. They’ll pay you with a check in the mail every few months or deposit it to your PayPal account. Talk about money for nothing. Plus, when you sign up now, you’ll get a $5 welcome bonus. 3. Earn as Much as $1K/Month Doing Simple Online Tasks Is there such a thing as easy money? If you know your way around the web, there certainly is. That’s because data is currency these days, and many companies are willing to pay cash for it — up to $1,000 per month. Finding these companies can be time-consuming on your own. But a company called Freecash has compiled all sorts of quick cash tasks from about a dozen advertisers and market research companies thirsty for more data. Freecash has paid out over $13 million to users since 2019. You can pick and choose your tasks and complete them at your convenience. The coins you earn from each completed task can be converted into things like Visa gift cards, Amazon gift cards, cryptocurrency or cold-hard PayPal cash. Signing up for a Freecash account is easy and there’s no minimum amount you need to earn before you can cash out. And if you’ve got enough free time on your hands, you can join the ranks of Freecash users making more than $1,000 a month in extra cash. Sign up here to see how much you could earn. 4. Get Paid up to $130/Month — Just for Sharing Your Opinion Taking surveys might not sound like the best way to make money, but if you're just vegging out on the couch — or pretending to be interested in your partner’s new favorite show — why not click a couple buttons? It could earn you up to $130 a month. Seriously. There are a bunch of paid survey sites out there, but one of the best we’ve found is Survey Junkie. You’ll get asked questions like, what kind of laundry detergent you use, or if you prefer Pepsi or Coke. You get points for answering, and many people accumulate enough points to request a check within a few hours. Completing three surveys a day can add up to $100 each month. Or, complete four or more surveys a day and earn as much as $130 a month! With over $55,000 paid to Survey Junkie users daily, it’s not hard to see why there are already over 20 million active, lifetime members. Give it a try by visiting Survey Junkie and clicking the “Join Now” button. It’s free. 5. Scan Your Groceries’ Barcodes For Free Gift Cards Remember the Nielsen company? The one that’s always tracked TV ratings? Well, now it wants to know what’s in your fridge. Once you sign up to be on the Nielsen Consumer Panel, you'll gain access to the NCPMobile app. (If you don't have a smartphone, Nielsen will send you a scanner.) As you unload your groceries after your next shopping trip, simply use the app to scan items' barcodes. Nielsen will reward you with points, which you can redeem for free gift cards, electronics (a new TV, anyone?), and household items. The longer you stay on the panel, the more opportunities you have to earn. Applying to become a panel member is straightforward. You'll answer some basic questions about yourself and your household, and Nielsen will review your application and contact you when you're eligible to join. 6. Get Paid Just to Share Your Opinion We could all use a little extra money these days. Luckily, there are companies that want to hear what you have to say — and they’ll reward you for filling out surveys. If you're just vegging out on the couch — why not click a couple buttons and share your thoughts? It could earn you some easy rewards. A company called Ipsos iSay will pay you in points for every survey you complete, which you can exchange for gift cards or cash transfers. Surveys take just a few minutes to complete. More than 40,000 people have reviewed Ipsos iSay on TrustPilot, where it has a rating of 4 out of 5 stars. It takes just a few minutes to create an account and start earning points you can cash out for money transfers or gift cards. has been labeled as: ['suicide']\n",
      "\t Non-Suicide Approximation (%): 0.4\n",
      " \t Suicide Approximation (%): 0.6\n",
      "\n",
      "Message Difficulties in your life don’t come to destroy you, but to help you realize your full potential.Life is meaningful when you have someone to cry together, laugh together and bear each other’s sorrows.Nothing is too difficult to try.Create your own little heaven right here. Then go change yourself such that you qualify to live in it.Changing your mindset is the greatest achievement in life.One man works hard and gets nothing. Another one does nothing and gets everything.People who fight usually do so simply because they have not seen the same thing from the same lensIgnorance is perhaps the greatest enemy of progress humanity has ever had.A woman's loyalty is tested when her man has nothing.One of the most difficult things to give away is kindnessA stranger stabs you in the front. A friend stabs you in the back. A boyfriend stabs you in the heart.A woman’s heart is in the chest. A man’s heart is in the head.Distance means so little when someone means so much.Kissing is the merging of two lips, two souls and two spirits to form one human being.Trials are like a washing machine, they twist, turn and knock us around, but in the end we come out cleaner, brighter and better than before.The light at the end of the tunnel might be an oncoming speed train.Maturity is the art of living at peace with that which we cannot change.Beauty isn't about having a pretty face. It is about having a beautiful mind, a beautiful heart, and most importantly, a beautiful soul.Anyone who isn't confused on earth doesn't really understand what's going on.They say that love is more important than money, but have you ever tried to pay your bills with a kiss?Sometimes we tend to be in despair when the person we love leaves us, but the truth is, it gives us the opportunity to find the one person you can truly entrust your heart.Your destiny is not something to be discovered. It is already with you.Sometimes you have to stand alone to prove that you can still stand.A father is someone you look up to regardless of how tall you think you’ve grown.We know we're getting old when the only thing we want for our birthday is to not be reminded of it.Happiness doesn’t mean that everything is perfect. It means that you’ve decided to look beyond the imperfections.Hustle until you no longer need to introduce yourself.Being grateful for the little things you have is more important in life than being miserable about the many things you don’t have.Today it hurts. Tomorrow it works.If you spend all your life trying to seek other people’s approval, then you will give other people the power to control you for the rest of your life. has been labeled as: ['suicide']\n",
      "\t Non-Suicide Approximation (%): 0.33\n",
      " \t Suicide Approximation (%): 0.67\n",
      "\n",
      "Message The meaning of life is to reach such a sensation of the universe during this lifetime, that there will be no difference between life and death in this world and existence in another world—on another plane, in another dimension—when one starts to freely live in all the dimensions, not just in one’s present sensation. The problem is that when one is stuck within one’s inborn egoistic nature, where one only considers one’s own needs and desires, one senses only a small life. That is why all of our suffering and problems are a consequence of our ego. As soon as we exit ourselves, get outside our egContinue ReadingThe meaning of life is to reach such a sensation of the universe during this lifetime, that there will be no difference between life and death in this world and existence in another world—on another plane, in another dimension—when one starts to freely live in all the dimensions, not just in one’s present sensation. The problem is that when one is stuck within one’s inborn egoistic nature, where one only considers one’s own needs and desires, one senses only a small life. That is why all of our suffering and problems are a consequence of our ego. As soon as we exit ourselves, get outside our ego, when we can exit our own self, we immediately sense a higher outer world. We get rid of ourselves, so to speak, our suffering, our closed restricted sensations and then our whole life turns into an immense stream of delight. has been labeled as: ['suicide']\n",
      "\t Non-Suicide Approximation (%): 0.48\n",
      " \t Suicide Approximation (%): 0.52\n",
      "\n",
      "Message The meaning of life is a deeply philosophical question that has been pondered by humans for centuries. Different cultures, religions, and philosophical traditions offer various interpretations of the meaning of life. Some believe it is to seek happiness, fulfillment, or spiritual enlightenment, while others see it as a quest for knowledge, love, or contributing to the well-being of others. Ultimately, the meaning of life is a deeply personal and subjective matter, and individuals may find their own unique purpose and meaning in their lives. has been labeled as: ['non-suicide']\n",
      "\t Non-Suicide Approximation (%): 0.76\n",
      " \t Suicide Approximation (%): 0.24\n",
      "\n",
      "Message Originally Answered: Rahul Nayak's answer to What is the purpose of life?This is a question I believe a lot of people, who think to live or who avoid living by thinking, have wasted a lot of time on. The reason I believe this question is so popular is because it leads to a perpetual chain of reasons and hence is a perfect instrument to kill time. It works like an addiction when you have a lot of time to kill and lot of things to run away from. I think I have both. So I am highly tempted to write an answer with full knowledge of the fact that it is going to be an exercise in vain. Evolutionary perspectiveIf you think from an evolutionary point of view, the answer is simple. The purpose of life is to create more life. All living beings live to reproduce so that the evolution can continue churning its wheel creating diversity and complexity. Even though this answer may be the simplest and most convincing of all, it is too mundane for human intellect. While this purpose fits really well for most of the life forms, It doesn't really explain the existence of beings who can ask this question and kill time. Because even if they find the answer, they don't stand a chance to reproduce more, in fact they might even be punished by females of their species for being useless for all practical purposes. Philosophical perspective Plato put forth the meaning of life in achieving highest form of knowledge. And the highest form of knowledge according to him is the idea of “Good”. According to Aristotle (one of the students of Pluto)What is the highest good in all matters of action? To the name, there is almost complete agreement; for uneducated and educated alike call it happiness, and make happiness identical with the good life and successful living. They disagree, however, about the meaning of happiness.Now that is confusing. It says that the purpose of life is happiness but the meaning of happiness is not clear. That is like answering a question with another question. but then what else can we expect from philosophers. Religious perspective When we talk about religious perspective of purpose of life, more or less we talk about purpose of human life (I don't know if animals have their own religions.. so can't comment) Hinduism: I being a Hindu can comment on Hindu perspective of purpose of life better than other religion. Although Hinduism itself has a multitude of schools of thoughts, so nothing qualifies as the final word. According to one of the well accepted schools, the purpose of life is four fold: Dharma, Artha, Kaam, Moksha. None of these four words have an exact parallel in english. Loosely speaking, Dharma means duty. Duty with respect to God (if you believe in one), Parents, Fellow human beings and all life forms. Artha means pursuit of wealth, because being poor suck for sure. Kaam signifies pleasure. Last but the toughest, Moksha, means the enlightenment. The attainment of ultimate knowledge (Brahm Gyaan) to be liberated from the cycle of life and death and become one with the parmatma (the primary soul of the universe). While each of these four facets are complete by themselves, together they form the ultimate purpose of life. Buddhism: I think Buddhists have the best word for the purpose of life… to attain Nirvana (It is pronounced without the ‘a’ at the end). Nirvana is a concept very hard to explain in any language. Although I believe it is close to the word “Moksha”. Nirvana is achieved by conquering one's own desires and achieving ultimate understanding of samsara (the universe, the cycle of birth and death and the materialistic reality and the suffering). I do not have a good understanding of the Abrahamic religions. Ill appreciate comments to add other religions perspective as well. But I believe all the religions point to the purpose of life as purification of heart and soul in some manner. Ridding oneself from wrong deeds and accumulating good deeds as one goes along living life. Personal perspective All that the sages and the philosophers have to say, more often than not, is not easy to understand by ordinary people like me. So I have my own ideas of the purpose of life (specifically my life) An idea: Everyone is born unique and given how complicated a life form is, it is practically impossible that the exact you will ever exist again in this universe. Being so unique, everyone has at least one unique idea that will die forever if it is not put out into the universe. The purpose of life, probably is to put this one idea out and implement it. May be it is a delicious chicken curry, may be it is a song, a poem, it may be a piece of code, a design of furniture… it can be anything at all.Evolution: Nature, by the virtue of its mechanisms, points us to a purpose. The propensity of nature is the evolve. So our duty as a part of nature is to evolve. To achieve scientific advancements and to break out of our home planet in order to explore the universe. Any small step taken by an individual in that direction is a fulfilling purpose in itself. Anyone can improve upon one’s area of interest and redefine the state of art and every such redefinition is a baby step in our evolution. Love: We are all born with a set of people granted to us. And we gather more as we go along living life. If we are lucky, we find that one person for whom we feel a very special kind of love. All These people care for us. They feel happy with us and they feel sad in our sadness. They provide us with another purpose of life. The purpose of being there for them. Live with them, enjoy with them, take care of them, and be around them when they die. Happiness: If you think about it, the perpetual chain of metaphysical reasons to find the purpose of life does not lead anyone anywhere. So why not understand its futility and rather concentrate on something practical. Why not concentrate on one’s own happiness. While it is hard to define happiness as a general idea, it is easy to define what it is not. Pleasure should not be misunderstood as happiness because pleasure is sensory and ephemeral. Anything, the effect of which does not last for a time of the order of one’s life (Life is generally measured in years) can be opted out. Happiness comes out of deep contentment with oneself. Being comfortable in one’s own skin. One needs to make sure to do the “Right thing” rather than the easy thing, in order to be content with oneself. When we are in our full mental health we rarely ask this question. We asks this when life seems nebulous and defence mechanisms do not work any more, we ask this when our belief system shakes or breaks down and we need a purpose upon which we can built a new one. In these times, the purpose of life can be the most elusive idea. I have always been in the need of a simple answer that I can use in such times. I believe we as humans are slave to our perceptions. And any purpose that we convince ourselves as a worthy one is as good as any other. Metaphysics and Philosophy may be good topics to wonder about, Though there is a good possibility that there actually is no higher purpose of life than just to live happily. has been labeled as: ['suicide']\n",
      "\t Non-Suicide Approximation (%): 0.15\n",
      " \t Suicide Approximation (%): 0.85\n",
      "\n",
      "Message I know the meaning of life. It may sound shocking. But I say it with confidence. I know the meaning of life. Of course, I didn’t come up with it on my own. Many have answered this question before me. What do they have to say? Here are three of my favorites.Victor Frankl was a world-renowned neurologist and psychiatrist, as well as a philosopher in his own right. Frankl survived the Holocaust: he saw the absolute extremes of human cruelty. He was swallowed by evil incarnate, and he survived to tell the tale. In his book, Man’s Search for Meaning, Frankl answers the question by flipping it on its heaContinue ReadingI know the meaning of life. It may sound shocking. But I say it with confidence. I know the meaning of life. Of course, I didn’t come up with it on my own. Many have answered this question before me. What do they have to say? Here are three of my favorites.Victor Frankl was a world-renowned neurologist and psychiatrist, as well as a philosopher in his own right. Frankl survived the Holocaust: he saw the absolute extremes of human cruelty. He was swallowed by evil incarnate, and he survived to tell the tale. In his book, Man’s Search for Meaning, Frankl answers the question by flipping it on its head:Ultimately, man should should not ask what the meaning of his life is, but rather must recognize that it is he who is asked. In a word, each man is questioned by life; and he can only answer to life by answering for his own life; to life he can only respond by being responsible.But he goes further. Frankl outlines three specific things that give life meaning:…the meaning of life always changes, but it never ceases to be. According to logotherapy, we can discover this meaning in life in three different ways: 1. By creating a work or doing a deed; 2. By experiencing something or encountering someone; 3. By the attitude we take toward unavoidable suffering.For Frankl, the meaning of life isn’t prescribed. It’s created. Each person’s life has its own unique, context-specific meaning. We may give meaning to our lives by creating, by experiencing, and by choosing our response to a situation, but it is we who must give that meaning.The existentialist thinker Jean-Paul Sartre took a similar tactic. For Sartre, there is no objective, all-encompassing meaning of life. There is no rubric. In other words:Man is condemned to be free; because once thrown into the world, he is responsible for everything he does.But this doesn’t mean life is meaningless. In fact, in this void of objective meaning, every action becomes meaningful. In Sartre’s eyes, our actions create a meaning to life, and that meaning is whatever those actions define it to be. But my favorite answer is a lot less heady. Don’t get me wrong, I love the existentialists. I think they got at something beautiful. But when I answer the question “what is the meaning of life,” this is what I say:…the universe in general and playing in particular are, in a special sense,\"meaningless\": that is, they do not - like words and symbols - signify or point to something beyond themselves.This comes from the British philosopher Alan Watts, and I love it because it reveals the silliness of the question.Watts took much of his philosophy from Eastern wisdom traditions like Hinduism and Buddhism. For him, the entire effort to answer the meaning of life in words is ridiculous. Here he is again:People get all fouled up because they want the world to have meaning as if it were words...As if you had a meaning, as if you were a mere word, as if you were something that could be looked up in a dictionary. You are meaning.Viewed from this angle, the only sensible answer for the meaning of life is to recognize that it’s a nonsensical question. Trying to parse out a “meaning,” trying to find the moral of the story, is a fool’s errand. See how he finishes the quote above:[Life is] in a special sense,\"meaningless\": that is, [it does] not - like words and symbols - signify or point to something beyond [itself], just as a Mozart sonata conveys no moral or social message and does not try to suggest the sounds of wind, thunder, or birdsong.Trying to find the meaning of life with words is like trying to sing a song by describing it. You’re missing the point. If you want to know the meaning of life, sit for a while on an old wooden bridge above a calm stream in late autumn. Feel the cool breeze glide across your skin. Listen to the sounds of the forest, quietly singing to itself in birdsong. See how the light goes yellow, red, blue, purple as the sun dips down below the horizon. In this life, this is all the meaning you will ever get. But it is all the meaning that you could ever, ever need. has been labeled as: ['suicide']\n",
      "\t Non-Suicide Approximation (%): 0.46\n",
      " \t Suicide Approximation (%): 0.54\n",
      "\n",
      "Message What is the meaning of life? When I was 17, I also wanted to know the answer to “What is the meaning of life”. So I contemplated what I had read and heard about God, decided He does exist, and that meaning and answers were held in Him, somehow. It seemed logical to me that He existed. But, I had never prayed except mouthing our little grace at family dinner and saying in rote the Lord’s Prayer at school every morning with the other children during grade school opening time. (This was a long time ago when prayer was still part of public school.) I had no idea what I was saying in these prayers, and certainly had never thought about it. It was just something we had all been taught to do, like memorizing the facts and figures of the rest of learning. Back to me being seventeen: So one night after deciding God existed, I decided to test Him and actually talk to Him, in fact, to demand that He help me. Silently, I thought to Him, “I’m going to pray out loud over and over, ‘God help me!’ and won’t stop until you actually do”. I was thinking to Him, ‘You’ll be really embarrassed if you don’t help me, because I’ll be known as the girl who keeps asking you for help everywhere I go, public and private, but that You evidently don’t care and are not really helpful at all. I’ll be a nuisance to everyone, especially to You!” I figured that would scare Him into answering me so He could save his reputation. (I was never that insolent with my parents.) So that night, I only got one “God help me” out of my mouth, and suddenly He was there with me. I was overwhelmed and automatically flipped over from lying on my back on to flat on my face, still and silent while listening to Him as He talked. When He stopped talking, I begged Him stay and tell me more, but He was done. But I accepted that because then I had the proof and the reassurances I wanted, and never again doubted His existence or that He is a personal God. One of the things He told me that night was to start reading the Bible. So that is the basis of what I am now sharing with you. I believe the Holy Bible is indeed the “Word of God”, and in it is all truth. From that comes the following information. When it comes to the meaning of life, everyone has an opinion and some are more valid than others. The great teacher of long ago was Jesus Christ Son of God, who said, “I AM THE WAY, THE TRUTH, AND THE LIFE”. HE is the meaning of life! Did you see that? Did you hear it in your soul? Jesus is the WAY we should be going. Jesus is the TRUTH we should be living. Jesus is the LIFE that must also be our own life. Following that statement, He said, “No person comes to the Father (God) except through Me, meaning going through Jesus Himself. He is the doorway to God. The first time God spoke to Moses is told in the Old Testament. Moses asked Him, “Who shall I say you are?” God answered by saying, “I AM that I AM”. Okay then, so who is this great I AM? He seems to our natural minds to think highly of himself. But actually His nature is demonstrated by his Son Jesus in the New Testament, and that nature is love and humility. Many believe that Jesus and God are One and the same. If that is so, and for the sake of this answer let’s assume it is true, then we must obviously conclude that GOD IS the way, the truth, and the life. If God is life, then without God there is no life. This kind of life means not only physical life, but also spiritual life. That is what that radical statement capitalized above just said. “I AM THE WAY, THE TRUTH, AND THE LIFE”. Without God, we are not living as human beings created in the likeness of God, but are simply evolved animals as is taught in most schools in the U.S., and therefore operating on an animal level but with higher intelligence. How depressing that must be for young people to think. How base and worthless some must feel. Rather, you are God’s creation and precious in His sight! You could also say “Meaning of Life” is the ‘Reason’ for life. In summary: What is the meaning of life? The meaning of life is that God is love, so to get that kind of Life, the really alive Life, God must be in us and we must be in Him. That is life. That is the Reason for Life. Wise men still seek Him but fools deny Him. And what does He say? “COME and ask Me to live in you.” He also says, “You who are tired and carrying a heavy burden on your shoulders, come to Me and I will give you rest. I will carry you through this life.” This is so that you can run lightly with joy and meaning. has been labeled as: ['suicide']\n",
      "\t Non-Suicide Approximation (%): 0.22\n",
      " \t Suicide Approximation (%): 0.78\n",
      "\n",
      "Message There are tons (obviously), but in my mind these are the worst: 1. Not using an adblocker. If you aren’t using an ad blocker yet, I am begging you to try one. I am not exaggerating when I say it will change your life. A good ad blocker will eliminate virtually all of the ads you’d see on the internet. No more YouTube ads, no more banner ads, no more pop-up ads, etc. It’s incredible. Most people I know use Total Adblock (link here) – it’s $2.42/month, but there are plenty of solid options. Ads also typically take a while to load, so using an ad blocker reduces loading times (typically by 50% or more)Continue ReadingThere are tons (obviously), but in my mind these are the worst: 1. Not using an adblocker. If you aren’t using an ad blocker yet, I am begging you to try one. I am not exaggerating when I say it will change your life. A good ad blocker will eliminate virtually all of the ads you’d see on the internet. No more YouTube ads, no more banner ads, no more pop-up ads, etc. It’s incredible. Most people I know use Total Adblock (link here) – it’s $2.42/month, but there are plenty of solid options. Ads also typically take a while to load, so using an ad blocker reduces loading times (typically by 50% or more). They also block ad tracking pixels to protect your privacy, which is nice. Here’s a link to Total Adblock, if you’re interested.2. Overspending when online shopping. You might be surprised how often you’re overpaying on Amazon and elsewhere. Big stores like Amazon know that no one has time to price shop through dozens of sites, so there's often no incentive for them to offer bargain prices. I typically hate browser extensions with a fiery passion, but if you don’t have Capital One Shopping installed yet, do yourself a favor and grab it. When you shop online (on Amazon or elsewhere) it will:Auto-apply coupon codes for you to save you moneyCompare prices from other sellers to make sure you’re not missing out on a better dealIt’s saved me a ton of money more than once. Here's a quick example:Savings will vary, this is just an example, of course. That same exact blender was $26 cheaper at another store (with 2 day shipping) when I shopped. Here’s a link to install Capital One Shopping, if you're interested. 3. Overspending on auto insurance. Believe it or not, the average American family still overspends by $417/year on car insurance. Here’s how to quickly see how much you’re being overcharged (takes maybe 30 seconds):Pull up Coverage – it’s a free site that will compare prices for youAnswer the questions on the pageIt’ll spit out a bunch of insurance quotes for you.That’s literally it. You’ll likely save yourself a bunch of money. Here’s a link to Coverage. 4. Not dealing with credit card debt. Debt can make you feel hopeless—even if you’re responsible about making payments on time, the interest sometimes prevents you from paying off the debt. But, believe it or not, plenty of companies (Accredited Debt Relief, for example) are willing to help you pay off your debt. Here’s how it typically works:You typically need $20k+ in overall debt.A company like Accredited Debt Relief (there are plenty of others, too) negotiates with your credit card companies, banks etc. to try and reduce your debt.If possible, they’ll consolidate all of your different sources of debt so you only have to make one monthly payment to one place.A lot of times you’ll end up paying significantly less than you owe. Here’s an example from Accredited’s site:E.g. he was $80k in debt, but only ended up paying $50kish. If things go well, you could be debt-free in 24-48 months or so. Here’s a calculator you can use to get a savings estimate, if you’re interested. 5. Not getting a financial advisor. 99% of people don’t have one, and it’s typically a huge mistake. Sure, you can manage things on your own if you want to, but most people don’t have the time to actually do things right. There are huge benefits to having somebody pay attention to your money all the time.People with financial advisors tend to beat the market by ~3%/year (according to a 2019 Vanguard Study). That can make a huge difference over time.But more important: a good advisor will handle ALL of the annoying retirement stuff & bizarro tax implications you would have never thought of.If you don’t know a financial advisor personally, use a comparison site (like WiserAdvisor) and find somebody near you that has good reviews. Or if you want something easier, here’s a quiz you can fill out that will find an advisor/planner based on your reqs. 6. Not investing in real estate (start with as little as $20). It’s no secret that millionaires and billionaires love investing in real estate, but for the rest of us, buying property has been prohibitively expensive (if not impossible, for some). Times have changed. There are a few amazing real estate startups that allow you to buy shares of rental homes for as little as $20/share (Ark7 is one of our favorites). They take care of the property management and collect rent checks for you. Then, on the 3rd of the following month, your share of the property’s profit is distributed to your account. It’s an interesting way to build yourself a little rental home empire (without spending like a magnate). If you’re interested, take a look at Ark7’s properties here. 7. Being a paid game tester ($20/day). Are you familiar with Freecash at all? It’s basically an app that will pay you to test new games. It’s easy to get started: Download the app here, choose a game from the ‘Earn Page’, complete the offer (takes 5-10 minutes tops), then get paid and cash out via Apple Pay, gift cards, etc. Whenever you play a free phone game, you generate ad money for the game developer. Freecash basically gives you a share of that ad revenue. If you’re playing games anyway, why not make some money off of it? Here’s a link to their app. So there you have it, the dumbest mistakes people make online. Don't be one of those people! Stay safe and smart out there. has been labeled as: ['suicide']\n",
      "\t Non-Suicide Approximation (%): 0.3\n",
      " \t Suicide Approximation (%): 0.7\n",
      "\n",
      "Message Whenever I went through Hell, I figured out the meaning of life.When I was jobless : I was a fresher when I went to do my MBA from IIM-I; like 99% of the MBA aspirants, there was only one goal - to get the highest paying job. Miraculously I got one! But it was in an African country, I came running back within 2 months of joining & then the unemployment phase begin. I went through Hell, searching for jobs, thinking I f*cked up my one & only campus placement, crazily applied for just any job, did one low-level (B.Com) job for 3 months, thinking I ended my career before it even started. But I did not give up! I kept giving interviews, faced rejections but pushed through & finally under 2–3 months I got the job I deserved. After all of this, I realised, there was no point of putting unnecessary pressure on myself for campus placements when life can get royally f*cked anytime without any warning.When I was obese : While I was preparing for CAT, I had a strict schedule, 9am–5pm engineering college, CAT coaching 6pm–8pm, some dinner & TV till 9pm and then self-study till midnight. Despite all of this, morning 6am-8am slot was booked for physical fitness, I went bonkers with 6km running, pilates, pushups and what not. The life at IIM-I messed it all up, no eating/sleeping/exercising schedule; I entered at 42kg and graduated with 70kg. I was looking very unhealthy on the outside and very low in confidence on the inside. Decided to lose the extra fat, walked 14,000 steps everyday, my feet used to hurt like hell, I used to cry, but I pushed through and after 2 f*cking years lost zero (0) weight. Just when I was on the verge of giving up, I realised, I had no other option but to keep following healthy practices (with or without any results) & just leave it on time.When I had troubles in my marriage : Since this is personal let’s just keep it short. As a person who truly believes in “live & let others live”, I suddenly found myself surrounded with vicious women who had no other pastime than saying hurtful words and manipulating others. Obviously like all the men, my spouse was either ignorant about/ tried to ignore this politics within the family which was emotionally affecting me. Again, I was going through hell as I was trying to understand how the person who truly cared about me before marriage suddenly doesn’t give a damn about basic things like my respect & health (read sanity). I realised, I can neither stop nor distance myself from it for eternity & also why someone else has that kind of power over me that they can just throw me into depression any day? Instead, I’ve learnt to take my own stand now, I've stopped giving into manipulations and more importantly I’ve learnt to shift my focus on productive things rather than pointless bickering.So basically, for me, the meaning of life per se is NOTHING. We give it meaning by the way we live it, by :Neither taking too much pressure nor leaving everything on God (fate)Realising that we can never give up even if we desperately want toTaking our power back and leading our mind towards meaningful thingsCheers, AK has been labeled as: ['suicide']\n",
      "\t Non-Suicide Approximation (%): 0.12\n",
      " \t Suicide Approximation (%): 0.88\n",
      "\n",
      "Message I like this photo showing fun bath time amid war and ruins. To me, it represents the meaning of life: to keep love and humanity, regardless of circumstances.Continue ReadingI like this photo showing fun bath time amid war and ruins. To me, it represents the meaning of life: to keep love and humanity, regardless of circumstances. has been labeled as: ['non-suicide']\n",
      "\t Non-Suicide Approximation (%): 0.8\n",
      " \t Suicide Approximation (%): 0.2\n",
      "\n",
      "Message Technically we are nothing, absolutely nothing but genetic material. Thats it. Like, we think we are special somehow because of our brains and opposable thumbs and language, but we really aren’t. All life on the Planet Earth is pretty much the equivalent of mold. If you combine water and light, you’ll eventually have life and its unfortunate to think about, but we have no greater purpose. Saying our only purpose is to have babies and continue the species isn’t entirely wrong, but in truth its not even that. We are just bundles of cells that decided to work together in order to reproduce more efficiently. We reproduce, we get old, we die. Cycle continues ad-infinitum until the Human Race is wiped out or replaced, which will happen eventually. We are not the center of the universe, we don’t matter, we are, as previously mentioned, the same thing as mold. We are insignificant and it doesn’t really matter whether we expand or not, but in all honesty we are more so a virus. What is right, truly right? Is Life right? Why? Whats special about Life? Nothing, thats it. The Universe doesn’t care whether we exist or not, it doesn’t care if we are happy or fulfilled or have a purpose. We are creatures of instinct, creatures that try to be happy but it doesn’t matter because we just die. Do we think of how an ant feels before we squash it? So when we die, it doesn’t matter. Birth, death, it doesn’t matter. We all search for food, and then we seek to procreate, and then we die off and are replaced by our descendants. Our experiences don’t matter. Even this conversation doesn’t matter, because one day we will all be gone and this will be totally forgotten as though it doesn’t exist. Life isn’t about pain or suffering or anything. Its just life, its just existence, fooling ourselves with grandiose is irrelevant. We will all live to see someone we love die, and then we will witness the deaths of everyone around us and its completely natural. The worst holocaust Humanity has ever suffered through began when a one celled organism reproduced for the first time. has been labeled as: ['suicide']\n",
      "\t Non-Suicide Approximation (%): 0.29\n",
      " \t Suicide Approximation (%): 0.71\n",
      "\n",
      "Message The meaning of life is to be who really are, the eternal spiritual beings who live within the bodies, not the false bodily identity that the materialistic society forces upon us by propaganda that we are these bodies and when these bodies are finished everything is finished. The eternal spiritual being within is the servant of God and he relishes unlimited pleasure by always engaging himself in the service of God according to the instructions given by God. has been labeled as: ['non-suicide']\n",
      "\t Non-Suicide Approximation (%): 0.77\n",
      " \t Suicide Approximation (%): 0.23\n",
      "\n",
      "Message When my Dad was dying, he said to me, “You know what life is? Life is just the experience between the two times you are dead.” “Two times?” I asked confused. “Yeah. You are dead before you are born and again after you die. You have some experiences in between and then it is time to go back. The transition sucks, but you end up in the same place.” That satisfied my quest for the definition of life. has been labeled as: ['non-suicide']\n",
      "\t Non-Suicide Approximation (%): 0.54\n",
      " \t Suicide Approximation (%): 0.46\n",
      "\n",
      "Message Hmm. This is a rather tough question(s). Let’s start with the first one. Why are we here? Well, there’s too many answers for me to list so I’ll list a few. Let’s start with the first and most obvious (and funniest in my opinion.) We are here, because our parents had sex, and so chose to have the mother carry a life within her that one day became you (or me). Another could be that you came to be because a God or gods created you for some greater purpose. I personally believe that we are born into the world, to become something. Can it be a nobody? Why yes! Most people are and will be nobodies. SounContinue ReadingHmm. This is a rather tough question(s). Let’s start with the first one. Why are we here? Well, there’s too many answers for me to list so I’ll list a few. Let’s start with the first and most obvious (and funniest in my opinion.) We are here, because our parents had sex, and so chose to have the mother carry a life within her that one day became you (or me). Another could be that you came to be because a God or gods created you for some greater purpose. I personally believe that we are born into the world, to become something. Can it be a nobody? Why yes! Most people are and will be nobodies. Sounds awful eh? But, somebody has to be the nameless help, the people who do things in the world that go unsung. Remember, the famous people wouldn’t exist if everybody was known, and whoever said they did anything without the help of people like you or me. Surely George Washington did not win the Revolutionary War alone. Even if it is not your face in the limelight, why be ashamed? Is not a deed greater in secret than in public? So be it that history does not remember you, because somebody, somewhere, will. What is the meaning of life? The meaning of life. Ahh, an age old question. Socrates, Plato, the great philosophers came, and they were found wanting. Their answers are amazing, incredible, and quite frankly awesome (as in inspiring great awe). Are they the correct answers? I don’t know, and I’m sure plenty others would disagree, both with me and them. Well, you’re asking me, so you get my answer. Life is worthless. Life has no meaning, it is nothing. It, is an empty slate. Life has no meaning because meaning should not be in its hands. Perhaps a better term would be, life is the breathe that animates what gives meaning. On its own, life is just a vegetative state. But clearly, we aren’t all vegetables. No, the meaning in life, is us. We create meaning, we make the world something, we make it mean something. We are the why to the what. It is only right, as life is the what, and we, as living creatures are the why. Why do people do things? Either for themselves, or for something else. Life on its own has no value, but the things in it? Yeah, those things are the most important reason why life has value. They give us cause, they give us reason. A mother saves her child not because of life but because of the child. A boy mourns his dog not because it is no longer alive, but because without it, his life loses a glimmer of meaning. A person holds on to life because they want to retain all the things in it. We, as the Bible would say, are the light of the world. Not solely because we ought to spread a religion, but because we give meaning. We produce laughter, love and many other emotions. We give it meaning. We are meaning. Our lives are little pinpricks of fire that light up the abyssal void. Sometimes, there is pain. That pain too, can define us. We can use it for many different reasons, but in the end, you know what? It makes us human. And you know? It is good, it is very good. has been labeled as: ['suicide']\n",
      "\t Non-Suicide Approximation (%): 0.26\n",
      " \t Suicide Approximation (%): 0.74\n",
      "\n",
      "Message The majority of us, including myself, don't truly understand the meaning of our lives. Life often seems to provide more reasons to live but mine gives me to end. As we age, we encounter various experiences that shape who we are today. However, in my case, everything appears to be moving in the opposite direction. It's as if karma is operating in reverse – the more good I do for others, the worse things get for me. Imagination is my only source of happiness because in real life I'm just dead dead dead. This cycle of pain, trauma, trust issues, and insecurity feels never-ending. Despite my efforts to motivate myself and grow stronger, life seems to triple its challenges, and people attempt to break me. I'm uncertain about the person I'm gradually transforming into, and the future remains a mystery. Living with a heavy heart and incessant overthinking is painful. Nights are particularly distressing, as my mind becomes consumed by thoughts of past situations and pains. This leads to endless tears, at times forcing me to change pillows during the same night. Despite knowing I must remain resilient, my brain doesn't cooperate; it feels overwhelmed, as if I've reached my limit💔 has been labeled as: ['suicide']\n",
      "\t Non-Suicide Approximation (%): 0.15\n",
      " \t Suicide Approximation (%): 0.85\n",
      "\n",
      "Message When we add meaning to our lives, we have a purpose of our survival, LL: Love yourself, stop counting on your shortcomings and doing self pity looking at the mirror and your previous grades. Gear up and embrace your imperfections because they churn up your desire to work harder. I: Impart whatever little you have. Be it your knowledge, amenities or your blessings and prayers. Buying a million dollar company could definitely grant a being the peace of mind but bestowing happiness to the needy renders the peace of soul. I know this sounds too philosophical for our breed of youngsters but this will Continue ReadingWhen we add meaning to our lives, we have a purpose of our survival, LL: Love yourself, stop counting on your shortcomings and doing self pity looking at the mirror and your previous grades. Gear up and embrace your imperfections because they churn up your desire to work harder. I: Impart whatever little you have. Be it your knowledge, amenities or your blessings and prayers. Buying a million dollar company could definitely grant a being the peace of mind but bestowing happiness to the needy renders the peace of soul. I know this sounds too philosophical for our breed of youngsters but this will surely good omen for your life to be meaningful. F: Fight for yourself. We always have the option to ignore the matters and not intrude until an accident turns to a casualty, Indian mentality you see, till a lump in the body turns to the cancer, we believe in healing our body with the taste of our own medicine and that’s when all the trouble begins. Either we want to become a warrior of our lives or we’ll not even touch the weapon and this is how the life goes. We all have this ability to distinguish between the major and minor issues but we tend to react and fight on unwanted and insignificant affairs instead of focusing on the problems that require our immediate attention. So in nutshell we must fight and stand for more major issues that could create a negative difference to our lives. E: Extomperize for the perfect beat of the piano, Strive perseverantly to make yourself a better version each day. After all this, you have definitely added a meaning to your life. has been labeled as: ['suicide']\n",
      "\t Non-Suicide Approximation (%): 0.49\n",
      " \t Suicide Approximation (%): 0.51\n",
      "\n",
      "Message Life! Life is all about living but not just surviving. All the human who takes the birth, is born to give what he has got. May to himself or to the society. So,what I meant by, giving what you have got? All the good things a person has with himself is what he should share. We are here to live and while living we should laugh more than we cry,learn more than we teach,listen more than we speak,walk more than we run. Life has got no definition. It is all about what you create with whatever you have with you. What you create with all the qualities of yours and make it a life for you. It is a consistent efforts of growing yourself in what you want your life to be. When you know why you are here you should start putting your efforts for yourself and let help others too finding their reason to be here. So because of this helping each other know why they are here, you get the answer. So people out there get up and make your own meaning of life and find your own reason that why YOU are here, to understand why WE are here! …but one thing is very easy to do ,that is to upvote,if you find something good or helpful on quora! Thank you!:) has been labeled as: ['suicide']\n",
      "\t Non-Suicide Approximation (%): 0.35\n",
      " \t Suicide Approximation (%): 0.65\n",
      "\n",
      "Message The meaning of life? Monty Python covered it fairly well. What is the meaning of life to you? It depends. Upon you. We tend to think of life in terms of everyone else’s lives. We tend to try to put the “meaning of life” into a kind of theme that fits all. But we can’t do that for anyone else. We can only do it for ourselves. The research shows that we choose our lives. By research I mean the thousands of cases reported by Dr. Helen Wambach and Michael Newton. Both psychologists used hypnosis over a vast amount of time and people to get uniform, consistent answers about why we choose to incarnateContinue ReadingThe meaning of life? Monty Python covered it fairly well. What is the meaning of life to you? It depends. Upon you. We tend to think of life in terms of everyone else’s lives. We tend to try to put the “meaning of life” into a kind of theme that fits all. But we can’t do that for anyone else. We can only do it for ourselves. The research shows that we choose our lives. By research I mean the thousands of cases reported by Dr. Helen Wambach and Michael Newton. Both psychologists used hypnosis over a vast amount of time and people to get uniform, consistent answers about why we choose to incarnate. I’ve filmed 45 people claiming to remember why and how they chose to incarnate. Why they chose this lifetime, why they chose this planet. They claim “this isn’t the only game in town.” That we choose this planet for a variety of reasons, but we can choose lifeforms elsewhere on different planets. I would have initially thought those answers were crazy, but when thousands of people claim the same thing which is outside their own conscious awareness of the planet, at the very least the answers have to be examined and compared. Further they claim that we come here specifically to learn lessons or teach lessons. Often the lessons are related to something we individually are working on, sometimes they’re related to lessons or teachings we are working on with our “soul group” - those individuals we often incarnate with. They too might have chosen a lifetime that relates to an overall theme - like “addiction” or “courage” or “letting go.” It depends upon the themes that the soul group is working on together,like a university class, or a doctoral thesis for an entire group of people. But they also claim that we can say “no” to a particular suggestion of a lifetime, the suggestion being made by our guides and counselors, friends and loved ones. So that’s an element as well. It’s not like we are forced to come here (by karma or some other source) but it’s that we choose to come here because we “think we can handle it” or “believe we can learn or teach lessons this time around.” This is not a theory, belief or philosophy. It is just what people consistently say while under deep hypnosis about the journey of souls. And they say each lifetime is a choice that we make with our guides and loved ones. So it’s really up to you to answer the question individually. Why did you choose this lifetime? What is the meaning of your life? I’ve found that when asking this question while under deep hypnosis, the question of “why did I choose this lifetime?” the answer is often relatively the same. “I came to teach (or learn) lessons in love.” Lessons in “forgiveness” or “courage,” “Letting go” or giving love “unconditionally” to others. In all the cases I’ve examined, people claim that those individuals they meet along with way who seem disruptive are often doing so at the behest of others. As if they “asked” those people to play difficult roles in their lives so they could learn lessons in how to overcome those events. I know why I claim to have come here. I know why I “chose this lifetime” as I’ve witnessed myself making the argument as to why I would come here. So the answer to the question “what is the meaning of life?” can only be answered or understood once we truly examine what life is, why choose to come here to participate in it, and how that choice affects us and others. has been labeled as: ['suicide']\n",
      "\t Non-Suicide Approximation (%): 0.41\n",
      " \t Suicide Approximation (%): 0.59\n",
      "\n",
      "Message To kill the Earth. There is no meaning of life. We are all made of star stuff, atoms, elements, DNA, hormones, you name it. When it comes down to it, though, we're just bacteria eating up the planet. As Joe Rogan once put it, “I think we're here to eat the sandwich.” Meaning we, as humans, can only evolve and use our planet dry, much like a virus would a living organism. To me, there is no supernatural or profound reason people exist. It was by chance, as I'm sure it is for anyone or anything else out there in the universe. Like the stars, people are meant to use all available resources and then die. It's not philosophical or reassuring, but it is what it is. Make do what you will with it; ask that girl out, audition for that play, ask your boss for that raise. Just don't fuck it up, as it's your only chance to live. has been labeled as: ['suicide']\n",
      "\t Non-Suicide Approximation (%): 0.31\n",
      " \t Suicide Approximation (%): 0.69\n",
      "\n",
      "Message One learns what life means through love. One learns what love means through pain. One learns what pain means through hope. One learns what hope means by its fulfilment. One learns what it’s fulfilment means by waiting. One learns what waiting means in time. One learns what time means through life. One learns what life means through love.Continue ReadingOne learns what life means through love. One learns what love means through pain. One learns what pain means through hope. One learns what hope means by its fulfilment. One learns what it’s fulfilment means by waiting. One learns what waiting means in time. One learns what time means through life. One learns what life means through love. has been labeled as: ['non-suicide']\n",
      "\t Non-Suicide Approximation (%): 0.75\n",
      " \t Suicide Approximation (%): 0.25\n",
      "\n",
      "Message Most of us have no clue what we want to do with our lives. Even after we finish school, even after we get a job , even after we start making money, we fail to clearly define what we want from this life. It’s a struggle almost every adult goes through in life. “What do I want to do with my life” ?”What I’m passionate about”? Because there are so many answers to this question, it’s important to find that resonates us like , some say :— • The meaning of life is to be happy, • The meaning of life is to be at peace with yourself, • The meaning of life is developing feeling of contentment , • The meaning of life is serving humanity, • The meaning of life is to leave legacy, • The meaning of life is to love others, • The meaning of life is to create your own meaning, • The meaning of life is to make a positive difference, • The meaning of life is to have a variety of experiences, • The meaning of life is to find something important enough to justify sufferings . I mean , the concept for “meaning of life” is endless, people interpreting things as per their wisdom & thoughts , making spirituality a complex ,conflicting , chaotic & mysterious experience in itself. Part of the problem is the concept of “life meaning ”itself . The idea that we’re each born for some higher purpose & now it’s our cosmic mission to find it is the shitty logic used to justify things. People come to wonder about the meaning of life for a number of different reasons. May be they are inherently curious, or they have recently experienced a family tragedy, may be they’re questioning their faith or they are going through a depression or pressures in life & are looking for a renewed sense of meaning to escape the sufferings. So, when people say, “what should I do with life”? or “what’s the meaning of life” ? What they are actually asking is” What can I do with my time that’s important?” This is definitely a better question to ask. It’s far more manageable & it doesn’t have all the ridiculous baggage that the “ life meaning ” question demands. There’s no reason for us to be contemplating the cosmic significance of our life while sitting on a couch all day eating potatoes. Rather we should get off our ass & discover what feels important to us & go for it.Basically discovering meaning in our lives should be something that’s fun & interesting & not a chore. Truth is , we exist on this planet for some determined period of time & we do things during the time available to us .Some of these are important & Some are not. The important things that we do gives our lives meaning & happiness while the unimportant ones just kill time. Everything sucks, some of the time.Everything involves some sort of struggle & sacrifice . There’s is no free lunch on earth. Nothing is goody- goody all the time. It’s our ability to handle our struggles, the rough patches of our life, our tolerance threshold that determines the person that we become ultimately. Suppose we want to become a brilliant doctor or a lawyer or a tech entrepreneur or a professional artist but we can’t handle failure, embarrassment,if we can’t stand 90 hrs work week then definitely we’re not going to make it far. What unpleasant experiences in life we are capable of handling, make us what we become in future. If you avoid anything that embarrass you, then you are done away with instantly. It all comes back to vulnerability. Living a life avoiding embarrassment is akin to living a life with your head in the sand . Great things are , by their very nature, unique & unconventional. To achieve them , we must go against the herd mentality. And to do that is scary but do it . Find a problem you care about & start solving it. What most people fail to understand is that the passion is the result of action, not the cause of it. Discovering what you are passionate about in life & what matters to you is a trial & error process. We exactly don’t know how it feels to do the activity until we actually do the activity. Most of us don’t like thinking about death.It freaks us out. But thinking about our own death surprisingly has a lot of practical advantages. One of those is it forces us to zero in on what’s actually important in our lives & what’s just frivolous & distracting. Ultimately death only gives us perspective on the value of our life. Because it’s only by imagining our non-existence that we can get a sense of what’s most important about our existence & hence meaning of our life. When people have no sense of direction , no meaning in life , it’s because they have not identified their goals in life. And when we don’t know the values of our lives,we live with the priorities of others , instead of our own . Take it Easy! Just Chill. has been labeled as: ['suicide']\n",
      "\t Non-Suicide Approximation (%): 0.22\n",
      " \t Suicide Approximation (%): 0.78\n",
      "\n",
      "Message To the best of our knowledge, and within the limits of available evidence, life has two purposes: survival and reproduction. These depend in turn on us humans having access to three things: food, sex and shelter. But these are worthless unless our access to them is sustainable. Which is why evolution has hardwired three fundamental needs into us:  * need for control * need for connection * need forContinue ReadingTo the best of our knowledge, and within the limits of available evidence, life has two purposes: survival and reproduction. These depend in turn on us humans having access to three things: food, sex and shelter. But these are worthless unless our access to them is sustainable. Which is why evolution has hardwired three fundamental needs into us:  * need for control * need for connection * need for consistency These needs are still with us today. They drive everything we think, say, feel, decide and do. At the most basic level, they help us survive and reproduce. At a higher level, they set the scene, once we’ve answered them for any length of time, for conditions such as happiness, comfort, satisfaction or serenity.  Why do people think, say, feel, decide and do the things they do? They’re answering three fundamental needs shared by all human beings: control, connection and consistency, or what I call the ‘3Cs of why’. The ‘3Cs of why’ helped our distant ancestors survive physically. Today they help us ‘survive’ psychologically. You’re about to learn more about them. Reading time: 15 minutes. Bonus: by addressing other people’s fundamental needs for control, connection and consistency, we can influence them more effectively.I’ve had a passion for influence factors and techniques for four decades and been implementing and/or teaching them—usually under the title ‘communication’—for well over half that. The 3Cs of why emerged almost accidentally from those activities. I didn’t discover them myself, of course, but I brought them together and decided to study the mix. What I’m offering here is a dispassionate, research-based way to interpret (and influence) human behaviour. It helps me every single day of my life and is enthusiastically received by the people I train. If you’re looking for religious leaps of faith or any form of spiritual guidance here, you won’t find them. What you will find are reasonable assumptions about how our distant ancestors thought and behaved, and humility about what most of us can achieve. The 3Cs of why > Contents 1. Why are control, connection and consistency such fundamental needs in our lives?2. Psychological ‘survival’ has replaced physical survival as a priority for most of us3. Our need for control. A closer look.4. Our need for connection. A closer look.5. Our need for consistency. A closer look.6. Influencing others via their needs for control, connection and consistency7. How to explore your personal relationship with control, connection and consistency8. What about happiness, comfort, satisfaction and serenity?9. What about the arts?10. What about religion?  1. Why are control, connection and consistency such fundamental needs in our lives? Roll your mind back 20′000 years and consider the situation of our ancestors. To the best of our knowledge (and without getting into a debate about ‘how it all started’), evolution had already hardwired our ancestors for two things: survival and reproduction.Survival and reproduction depended in turn on our ancestors having access to food, sex, and shelter. But was it that simple? On closer inspection, sustainable access to food, sex and shelter depended on other things:  * Our ancestors needed food but they also needed it all year round, including during tough winters with snow on the ground. This meant they needed to find ways, however rudimentary, to store and protect their food. Those who didn’t died. Our ancestors thus needed to control their food supply. * They felt urges to have sex, but sex didn’t happen just like that. Access to females was restricted by possessive (and aggressive) family and tribe members. If access to females wasn’t possible through violence, it had to be negotiated. This in turn required social skills, however rudimentary. Our ancestors thus needed to connect with each other. And not just for sex. Their ability to connect helped them band together for more efficient hunting and child-rearing purposes. * Shelter could not be found, protected and shared without initiative, organization and social skills. Our ancestors needed both control and connection to achieve this. * None of the above could have happened without our ancestors being able to identify and memorize consistent links between causes and effects or between clues and meaning. For example, they needed to work out that by keeping certain foods dry or cool, they could save it for later. An awareness of consistencies and an instinct to look for them were crucial to our ancestors’ ability to learn, reason, decide, remember and predict—indeed to think. Therefore control, connection and consistency were needs that were just as fundamental to our ancestors, if not more so, as food, sex and shelter. Evolution hardwired them as needs into us, too.All this was true 20′000 years ago. The kicker is that, thanks to evolution, our needs for control, connection and consistency still rule our lives today. They still drive just about everything we do, feel and think. Examples:  * Control *  * Imagine a stranger walking up to you in the street, giving you 100 dollars and walking away without a word of explanation. Your surprise and perhaps a touch of paranoia will soon be replaced by satisfaction. Let’s assume you’re experiencing 50 units of satisfaction units. * Now imagine a different stranger three years later. He walks up to you as you’re checking your wallet, snatches 100 dollars from it and runs away. * Your initial surprise will soon be replaced by dissatisfaction. Logically, given that the sum of money is identical in both cases, you should be experiencing 50 units of dissatisfaction.  * But are you? If you think you’d be more dissatisfied in the second scenario than you were satisfied in the first, you’re not alone. Research has shown that our dissatisfaction at losing something is at least twice as high as our satisfaction at winning. This is our need for control (in this case our fear of losing it) at work. * Connection *  * You’re sitting in a meeting. The boss has just explained his plan to solve a problem. You think it’s total bullshit. It will never work. That should be obvious to anyone. * You look around, expecting to see looks on people’s faces that are at least as disapproving as yours. But you can’t see any. Everyone seems relaxed. * So you raise your hand and politely tell the boss that you don’t think his plan will work. You give it to him straight, even though he’s a sensitive sort of guy. That’s what you would do, right?  * Wrong. You stay quiet. This is your need for connection at work. You don't want to stand out, to rock the boat. You decide that maintaining your connection with your colleagues and your boss — being a team player in today’s jargon — is more important than the truth. *  * And even if you do have the courage to speak up, you won’t do so before experiencing a flash of doubt, of queasiness, of aversion to disconnection.  * Consistency *  * She says ‘yes’ to a dance with him. It goes well but nothing special. * She says ‘yes’ to a drink. * And ‘yes’ to another. * In so doing, she also says ‘yes’ but without pronouncing the word to his curiosity by answering his cliché questions. * When he first puts his hand on hers and tries to leave it there, she moves her hand away. That’s a ‘no’. * But when he does it again, she doesn’t move her hand away. She is cringing but she leaves her hand nnder his. So ‘yes’. * He manages a funny remark. She laughs. That’s a ‘yes’ to his humour.  * One final drink? Just a soda, she says. Another ‘yes’. *  * Now they’re outside the bar and he’s offering to drive/walk her home. ‘Yes’ to that. * More humour from his as they walk. More smiles from her. Not a ‘no’ in sight. * Now she’s outside her home. He asks if he can kiss her. * Yes or no? Strictly speaking, a kiss would have nothing to do with anything that went before. It’s unrelated. Yet somehow it is. A ‘no’ at this stage would seem to contradict, even though it doesn’t, all preceding responses and reactions—all those spoken and unspoken yesses. No one likes to be thought of as a flip-flopper. * This kind of discomfort is our need for consistency at work. It’s the reason men and women stay in broken marriages. It’s the reason people keep on investing in lost causes. To suddenly say ‘no’ would be an admission that all previous decisions were mistakes.  2. Psychological survival has replaced physical survivalOur needs for control, connection and consistency have evolved. They now express themselves differently. The main difference between our distant ancestors and ourselves is that 21st-century ‘survival’ is no longer a physical challenge for most of us. It’s a psychological one:  * threatening complexity has replaced threatening wildlife * dying for something to eat has replaced dying from not eating * exposure to judgment has replaced exposure to elements * scarcity of meaning has replaced scarcity of anything else * the tyranny of appearance has replaced the tyranny of subsistence * contagious loneliness has replaced contagious illnessThis switch from physical to psychological priorities has added levels of complexity to our survival and reproduction instincts. While our needs for control, connection and consistency still help us find food, sex and shelter, they now also drive us to:  * exploit 21st-century opportunities (where’s my start-up? Have you downloaded my app?) * manage 21st-century threats (what do you mean, ‘no wifi’?) * communicate and influence effectively (why did I get only 1 ‘like’ when I have 2538 ‘friends?’) * keep up with whoever or whatever (where are the fortune and fame the world owes me just because I’m alive, connected, reachable, sharable and high on Adderall?) * stay sane (where’s my antidepressant?) * and, if there’s any time left, achieve whatever else we consider important, both for ourselves and those we care about. Answering our fundamental needs simultaneously, sustainably and (where legal and possible) enjoyably is a pre-condition for experiencing states such as satisfaction, happiness, comfort or serenity. On the other hand, whenever one or several of the needs goes unanswered or is threatened for any length of time, it quickly takes precedence in our lives and either taints, disrupts, destroys or slows down our other wants and needs. And it’s no surprise that countless techniques are on offer to help people with unanswered fundamental needs ‘take a step back’, ‘live in the moment’ or ‘see the bigger picture’- Let’s take a closer look at each of our three fundamental needs. 3. Our need for control. A closer look.Our need for control explains our attraction to things like knowledge, food, shelter, freedom, choice, power, possessions, contracts, insurance, mastery and safety. But it also explains our attraction to risk taking, fortune telling and novelty, all of which are opportunities, real or imagined, to test or improve our control. On the other hand, losing control over our life or indeed loss of any kind, whether real or potential (e.g. the prospect of scarcity), is something we avoid and act on. Loss of weight is an exception. 4. Our need for connection. A closer look.Our need for connection is fundamental because there is very little—including reproduction, of course—that we can achieve alone. Evolution has hardwired us to assume we stand a better chance of surviving by collaborating with others, reciprocating and being sociable (watch how newborn babies instinctively attract attention, for instance). As groups we can produce more food, build safer shelters and defend each other. Attraction, seduction and sexual desire are among the most obvious manifestations of our need to connect. By making them pleasurable, evolution has increased the chances that we’ll have sex and produce, in many cases, descendants. But producing children isn’t enough. It takes a tribe, including its homosexual members, to raise them. Besides connecting with other people, we need to feel connected to the world around us, to what we do in it, to what events and things mean, to who we are and to who we might become (self-actualization). This is why emotions and stories, not facts and numbers, resonate so deeply with us. On the other hand, isolation or exclusion, whether real or potential, are forms of disconnection we instinctively fear and may go to extremes to avoid. They explain our reluctance to disobey authority and the darker sides of groupthink and conformity. 5. Our need for consistency. A closer look.Our need for consistency supports our needs for control and connection. How can we spot threats to our control and connections? How can we spot opportunities to test and improve them? By constantly checking our surroundings for breaks in the consistencies we know about. Consciously or not, we spend most of our waking hours filling gaps, spotting patterns, finding or inventing explanations for things (scientific explanations, religious explanations…), drawing conclusions, identifying truths, learning stuff and establishing rules. Consistency underpins all these things and our appetite for it is unlimited. On any given day, we look for consistency between:  * clues and meaning * patterns and meaning * thoughts and other thoughts * thoughts and acts * current acts or thoughts and previous ones * our self of yesterday and the one of today (persistentce of identity) * our ideal self and the one we show (appearances) * our behaviour and applicable rules of any kind, written or unwritten * new information and existing knowledge (learning) * cause and effect * choices or judgments to be made and mental shortcuts (also known as cognitive biases or heuristics, e.g. ‘he’s good-looking and therefore trustworthy’ or ‘he has the same first name as me and is therefore likable’) * expectations and reality The world might seem to be in a turmoil of change, but most of life is actually consistent. We know from observation and learning that the same causes have the same effects and that reality in its millions of tiny details is mostly consistent with our expectations. And it remains so from one minute, day or month to the next. This offers a crucial advantage: anything or anyone we know to be consistent in some way can be safely ignored in most cases. This in turn frees up our mind to pay attention to inconsistencies. These signal either threats to our control and connections or opportunities to improve them. 6. Influencing others via their needs for control, connection and consistencyIf you want to make your communication more effective and influence others, think about how you could reword or restructure your messages so that they answer one or several of people’s three fundamental needs. Examples:  * Control: ‘This project will increase our margin for manœuvre and keep our future options open. It will give us access to new markets. Any objections to all this freedom?’ * Control: ‘If we don't do this, we’ll miss out on new opportunities. We’ll lose customers and suppliers. You wouldn’t want us to damage the trust of our shareholders, would you?’ * Connection: ‘I know this change is not a comfortable prospect for you and you’ll be leaving dear colleagues and friends behind. But you’ll be surrounded by people who care and who’ll make you feel at home. I will call you every week to check on progress. Does that sound like loneliness to you?’ * Connection: ‘Are you sure you disagree? Everyone else is aligned on this and we’re ready to go. Are you a teamplayer or not? Why all the fuss?’ *  * Note: only use this approach if the person in question is clearly disrupting for disruption’s sake or trying to attract attention to themselves. It they genuinely (and bravely) believe they’re right, give them a chance. It’s not because one person disagrees that everyone else is right.  * Connection: ‘Let me share a story that will make things clearer.” * Connection: ‘Automation will remove the boring, unrewarding aspects of your work and allow you to focus on the meaningful, value-adding ones.’ * Connection: ‘We need your opinion on this.’ * Consistency: ‘There will be changes, of course, but look at what’s not changing: our values, our mission, your working conditions.’ * Consistency: ‘There’s a contradiction here. I think ... has been labeled as: ['suicide']\n",
      "\t Non-Suicide Approximation (%): 0.2\n",
      " \t Suicide Approximation (%): 0.8\n",
      "\n",
      "Message This is an interesting one. The answer came to me after a lot of thought about what is the meaning of life. Thought a lot about it, talked to a few people, searched everywhere inside, few said become a hippie but anyway one day the epiphany occured. Q. What is the purpose of animals in this world? A. They are in their endless struggle to survive and transfer their genes so they keep on living. For us humans, this was the case for a long time. We would struggle for our daily needs and mate because obviously it’s fun and nature made us this way. But with technology, so many things are solved that food is no issue, shelter is no issue, we aren’t at threat from anything. So the man asks what is my purpose because the basic needs of the animal inside us is all met. But this doesn’t change the fact that there’s no purpose in life. Our level of consciousness only finds everything meaningless because we know we’ll die and nothing really matters. After this I personally found getting back to life a bit challenging. Read a lot and came to the word Empathy. I think it is the most important word in my life right now. Everyone around us who is content has a purpose and that purpose falls in the realm of our daily problems. We won’t get a different answer just because we asked the deeper question. :D There’s no purpose to life. Just the way Sisyphus accepted it. Find your rolling stone. Search for empathy in things. We are made to connect with others and that greatly has served us humans as a race to grow. Every invention is to solve the pain of someone else. Right? (Not really but you get the point. :) ) has been labeled as: ['suicide']\n",
      "\t Non-Suicide Approximation (%): 0.24\n",
      " \t Suicide Approximation (%): 0.76\n",
      "\n",
      "Message I will be turning 20 at the end of the year. And yes many people think I might not be knowing what life is in this short span . But many incidents happens in a person's life and some might just change the person entirely. I never knew what kind of a person I am ,what kind of friends I should be making, I never had any hobbies ( I don't have any even now). This was 15 year old me . I was clueless. But I was happy, I studied hard scored good marks and made my parents happy. Nothing else mattered. But it was just one day I fainted and these fainting sessions happened many a times . My teachers didContinue ReadingI will be turning 20 at the end of the year. And yes many people think I might not be knowing what life is in this short span . But many incidents happens in a person's life and some might just change the person entirely. I never knew what kind of a person I am ,what kind of friends I should be making, I never had any hobbies ( I don't have any even now). This was 15 year old me . I was clueless. But I was happy, I studied hard scored good marks and made my parents happy. Nothing else mattered. But it was just one day I fainted and these fainting sessions happened many a times . My teachers didn't wanted me to attend school as I had regular episodes of fainting and breathlessness. Everyone suggested my parents that for some time I should take a break and should visit doctors and take time to heal. Even till now I don't know what happened with me. Those were the dark days of my life. I used to cry every night when I was unable to move and breathe and my voice would be stucked in my throat. I was so tired of my suffering that one day I asked my mother “ mommy why don't god just kill me instead of torturing me every day\" to which she replied “ Beta( my child) god is testing you , he is taking your exam and you always pass your exams with good marks and I am sure you are strong enough to pass this one as well and you know God always takes exam of those whom he thinks as worthy of it. And sometimes to make us strong\" I wasn't much convinced but I had my saviour with me. I took so many medicines but this fainting will always be there . Somehow I met a great doctor and his medicines were effective and I became stable with in a month . Actually I skipped 3–4 months of my school and tuition and every one was unsure whether I will pass 9th or not as I couldn't appear for half yearly exams ( which has the maximum weightage apart from final exams) . I reappeared the exams and passed with good enough marks . The lesson I learned: 1. life is too short so live it to the fullest. 2. Love yourself and every one. 3. Don't be too quick to judge someone. 4. There will always be ups and downs in life and that's what make our life more interestin 5. The past is in the past, just move on and forgive those who had hurt you because you will gain nothing by having a grudge against them. P.s during the treatment I have to cut down my mid back long hair and since then I always liked short hair. has been labeled as: ['suicide']\n",
      "\t Non-Suicide Approximation (%): 0.25\n",
      " \t Suicide Approximation (%): 0.75\n",
      "\n",
      "Message This is actually something to discover, not something to theorize about. You have to watch, in a detached manner, so that you can find out what manifests itself as meaningful to you. You can learn to do this. You can start by watching yourself for a couple of weeks. Assume you do not know who you are, but that you would like to find out. Notice when you say or do something that makes you unhappy or self-conscious or disgusted with yourself. Stop saying and doing those things. Notice, as well, when you say or do something that makes you feel more engaged, stronger, and less self-conscious. Say and do more of those things. This watching and noticing is more of an embodied or incarnate phenomena than an abstract conceptualization. Saying and doing things properly -- for you -- will bring together your disparate and warring parts, and improve your temper. Such an exercise produces an experience of deep-rooted solidity, at approximately the level of the solar plexus, rather than the experience of fallling apart. That solidity is the philosopher's stone.  You will have to sacrifice many of your deepest rooted convictions to correctly perform the exercise described above correctly. Many of the things that make you unhappy or self-conscious or disgusted will be things that you wish you could happily do -- but you can't. The joke's on you. Likewise, the things that make you stronger will often be undertakings you wish were beneath you -- but aren't. The joke's on you again. has been labeled as: ['non-suicide']\n",
      "\t Non-Suicide Approximation (%): 0.53\n",
      " \t Suicide Approximation (%): 0.47\n",
      "\n",
      "Message Life has many definitions; like a journey from birth to death, a Just Span, a happiness, a success or else failure and it continues, life ends but you will not get perfect definition of LIFE . So its up to you, either you waste your time in search of meaning or you create a new meaning by your living. Life itself is a Meaning, Living itself is a 'Definition' living itself defines your life. But two paths are in front of you; One is Living for a 'Purpose' or living for a 'sake' .Life is not a problem to be solved, its Mystery to be lived. Don’t try to figure it out - OshoEvery legend on this planeContinue ReadingLife has many definitions; like a journey from birth to death, a Just Span, a happiness, a success or else failure and it continues, life ends but you will not get perfect definition of LIFE . So its up to you, either you waste your time in search of meaning or you create a new meaning by your living. Life itself is a Meaning, Living itself is a 'Definition' living itself defines your life. But two paths are in front of you; One is Living for a 'Purpose' or living for a 'sake' .Life is not a problem to be solved, its Mystery to be lived. Don’t try to figure it out - OshoEvery legend on this planet had a title called a 'Purpose'; purpose generates a energy,energy transforms to a change, a change makes a living better.Jnanapeeta An Awardee Girish Karnad beautifully Says “You can walk for a mile in a Darkness, But you cant keep a step without a Dream”.Just imagine if all trees stop exhaling Oxygen, If Sun Stops illuminating, Water Stops flowing, wind stop breezing by all these earth might have turned to inhabitable. “The mystery of human existence lies not in just staying alive, but in finding something to live for.” - Dostovesky Why only few people become successful,why only few people are living happily? why the rest of world is in havoc inspite of having same blood and flesh, No it not matters what matters is 'Purpose'. Purpose may be anything ; it might be love, compassion, creativity, innovation etc..Without love we would have not witnessed mother Theresa, without creativity we could have missed Einstein. Gandhi, Lincoln, Luther King etc we got these wonderful breeds only by seed called 'Purpose' they were a Purpose Driven. They made this planet better .“You were put on this earth to achieve your greatest self, to live out your purpose, and to do it courageously.” - Steve Maraboli Every best thing on the Planet came from a 'Purpose' not of a 'Sake' . If you find purpose you discovered your life!!:) Spread happiness!!☺ S^_^ [1] Image sourceFootnotes[1] Image on weebly.com has been labeled as: ['suicide']\n",
      "\t Non-Suicide Approximation (%): 0.34\n",
      " \t Suicide Approximation (%): 0.66\n",
      "\n",
      "Message Most of the answers to this question are religious or just plain bullshit about a spiritual journey to achieve happiness. (Massive disappointment and depression ahead; proceed with caution) . . . Disregarding religion — if you are religious just stop reading now because you will not believe anything I am about to say. The universe is infinite but will only be infinite for a finite amount of time. That's a very difficult concept to grasp but eventually, galaxies will collide and then black holes will surround the vast universe everywhere. These black holes will eventually become the only thing that is left in the universe, no life or matter to exist anymore. These black holes will very slowly be dissipated into nothing through hawking radiation then becoming emptiness. When all the planets, stars, galaxies and then black holes are dissolved — the last proton will decay into oblivion and then -- Nothing. There will never be anything again. There's no stopping it. You cant avoid it. You see the reason why everyone on our planet is not depressed or killing themselves over this thought, although a good reason to — it is hardwired in our brains to survive. Climb that rock to get out of a hole, eat your childhood pet to not starve, find someone to multiply/increase odds of human survival, etc. So in the universal perspective, life has no meaning and everything you do. No matter how great or good — will be forgotten or erased forever eventually. In the terms of the natural evolutionary perspective, our meaning is to multiply and survive as long as we can.(Pillars of creation — real photograph) Also I do respect your belief of religion and I hope you respect mine about the universe. Dont attempt to convert me or tell me I'm going to hell. I dont care. Have a good life. has been labeled as: ['suicide']\n",
      "\t Non-Suicide Approximation (%): 0.18\n",
      " \t Suicide Approximation (%): 0.82\n",
      "\n",
      "Message As with most of life's mysteries, there are levels of truth. We seek meaning and purpose perhaps because the world we find ourselves in seems purposeless and we feel lost in many ways. We see injustice and pain and naturally feel our purpose is to right the wrong and help the weak. This is noble and speaks to our humanity. Yet injustice and pain seem to prevail century after century. It is my belief that this is because the world we find ourselves in is actually a virtual reality. An easy way to wrap your head around it is to imagine it's a video game and we are the characters in the game. Our Continue ReadingAs with most of life's mysteries, there are levels of truth. We seek meaning and purpose perhaps because the world we find ourselves in seems purposeless and we feel lost in many ways. We see injustice and pain and naturally feel our purpose is to right the wrong and help the weak. This is noble and speaks to our humanity. Yet injustice and pain seem to prevail century after century. It is my belief that this is because the world we find ourselves in is actually a virtual reality. An easy way to wrap your head around it is to imagine it's a video game and we are the characters in the game. Our true and higher self resides in the free universe outside of the game. Our lives feel purposeless because we are trapped in this alternate reality and we feel lost because we are disconnected from our higher self. Therefore the real purpose of life is to awaken to this truth. Samadhi. Enlightenment. Once we understand the truth about our false reality then our purpose is simply to reside in peace, connected to our higher self and be the light of truth in a world of darkness. It is because we know it's not ‘real' that allows us to be in the moment, live in the now without agenda because we don't need to prove anything, accomplish anything or do anything other than point others to the truth — with compassion and patience. We are free to enjoy life and express ourselves however we choose. We can allow others to be on their own path without angst because we know that it is their awakening that their soul is ultimately looking for. has been labeled as: ['suicide']\n",
      "\t Non-Suicide Approximation (%): 0.49\n",
      " \t Suicide Approximation (%): 0.51\n",
      "\n",
      "Message Because our parents had sex.Whatever you make it. No one else can define the meaning of your life. You have to invent it on your own; but others will gladly tell you what their versions are. has been labeled as: ['non-suicide']\n",
      "\t Non-Suicide Approximation (%): 0.76\n",
      " \t Suicide Approximation (%): 0.24\n",
      "\n",
      "Message Today, I will relate the meaning of life with Quora. Two days back, I had written an answer on this platform. Next day, I got a notification from QuoraIn just 16 hours, that answer was able to fetch more than 22k views. It was a remarkable achievement for an immature writer like me. But I got the notification that my answer was collapsed due to violating Quora’s image policy.Although, I appealed for the same but it did not work. I was very disappointed and didn't open Quora for some 7–8 hours. But finally, I decided to move on and written another answer which again surprisingly crossed 20k views in a single day. This situation is quite relatable to our life. Happiness is on our face till everything went smooth. Suddenly, a disasterous moment arrived and our heart broke into pieces. Many people can't handle this situation and happiness is replaced by the depression which eventually turns out to be more disasterous. After every such situation, we are left with two options either quit or face it and move on. If we choose the first option, our remaining life will pass in regret. If we choose the second option, everything will become normal in few days or maybe in few months. Life is full of challenge and its our duty to find the opportunity in every such moment.Life is 10% what happens with you and 90% how you react to it.image source :- quora. cheers…… has been labeled as: ['suicide']\n",
      "\t Non-Suicide Approximation (%): 0.36\n",
      " \t Suicide Approximation (%): 0.64\n",
      "\n",
      "Message Q: What is the meaning of life?A: According to Monty Python, it’s “Try and be nice to people, avoid eating fat, read a good book every now and then, get some walking in, and try and live together in peace and harmony with people of all creeds and nations” – which, as far as I am concerned is one of the most productive formulations. has been labeled as: ['non-suicide']\n",
      "\t Non-Suicide Approximation (%): 0.7\n",
      " \t Suicide Approximation (%): 0.3\n",
      "\n",
      "Message It goes on. These three words describe the meaning of life for me. I've spent the last few months contemplating about what the human life is all about. I've read religious books, talked to atheists about their thoughts on this topic - but all of it just confused me more. And while I was trying to find answers I didn't realize that important moments were passing by. I became so engrossed in trying to 'figure' out life that I forgot to live. I avoided calling my parents, since calling them only meant talking about mundane things (what did you eat? is your job going okay? etc.). These talks weren'Continue ReadingIt goes on. These three words describe the meaning of life for me. I've spent the last few months contemplating about what the human life is all about. I've read religious books, talked to atheists about their thoughts on this topic - but all of it just confused me more. And while I was trying to find answers I didn't realize that important moments were passing by. I became so engrossed in trying to 'figure' out life that I forgot to live. I avoided calling my parents, since calling them only meant talking about mundane things (what did you eat? is your job going okay? etc.). These talks weren't good enough for me, they weren't answering any of my questions. There came a point where I was so disheartened about not finding any answers that I went into depression, not knowing what this life was ultimately leading towards.  During this time one of my friends explained a very good theory to me which helped me gain a little perspective - she said that we have been accustomed to getting a result at the end of every task (we study hard for an exam, we get good grades; we exercise, we become healthy; we do good at work, we get promoted - we have an end goal to look forward to). This notion of knowing that a particular task is leading towards an end goal makes us think that this life is leading somewhere (at least that was my dilemma) and I desperately wanted to know what that end result of living this life would be. I still dont know the answer to that question but I've realized that even if you stop living, life doesn't wait for you. It doesn't come to a halt and wait for you to get back up on your feet - It goes on. This realization hit me hard and I'm still trying to digest the fact that Life will not be soft on me, it will not sympathize with me for not being able to cope up. It will just keep passing by and it's up to me to decide if I want to get on the train and enjoy the ride or just sit on the platform and watch, as the train passes by. has been labeled as: ['suicide']\n",
      "\t Non-Suicide Approximation (%): 0.18\n",
      " \t Suicide Approximation (%): 0.82\n",
      "\n",
      "Message Nothing really. Even if there is a meaning to life, it would be irrelevant to me. I’m just here to do my thing and get left the fuck alone about it. You could describe me as a hedonistic/optimistic nihilist. I don’t see a real objective purpose, so I’m just here for the pleasures. Given my rather self interested and pleasure oriented nature in the first place, this suits me quite well.There’s really not anything else to add to make this any kind of good or long answer. has been labeled as: ['suicide']\n",
      "\t Non-Suicide Approximation (%): 0.29\n",
      " \t Suicide Approximation (%): 0.71\n",
      "\n"
     ]
    }
   ],
   "source": [
    "## Test: Classifying reddit posts that were scrapped from Quora\n",
    "scrape_quora(rf, 'https://www.quora.com/What-is-the-meaning-of-life-179', 20, 50, 5)"
   ]
  },
  {
   "cell_type": "code",
   "execution_count": 8,
   "metadata": {},
   "outputs": [
    {
     "name": "stderr",
     "output_type": "stream",
     "text": [
      "[Parallel(n_jobs=8)]: Using backend ThreadingBackend with 8 concurrent workers.\n",
      "[Parallel(n_jobs=8)]: Done  34 tasks      | elapsed:    0.0s\n",
      "[Parallel(n_jobs=8)]: Done 100 out of 100 | elapsed:    0.0s finished\n"
     ]
    },
    {
     "name": "stdout",
     "output_type": "stream",
     "text": [
      "\n",
      "Message Music Music take it from the top got a body like an hour gotta sleep in like a clock his mind she caught it right now she buys a free I told Michael I was the only one Music Wow Music forgot Applause Music and picture the Music second chances theyll never matter people never change the lawyer nothing more sorry thatll never change and about forgiveness sorry Music Music Applause Music but God Music Applause Music it just feels soo Music washes water youre sure Music lets watch my wildest dreams come true you Music Applause Music  has been labeled as: ['non-suicide']\n",
      "\t Non-Suicide Approximation (%): 0.88\n",
      " \t Suicide Approximation (%): 0.12\n",
      "\n"
     ]
    },
    {
     "name": "stderr",
     "output_type": "stream",
     "text": [
      "[Parallel(n_jobs=8)]: Using backend ThreadingBackend with 8 concurrent workers.\n",
      "[Parallel(n_jobs=8)]: Done  34 tasks      | elapsed:    0.0s\n",
      "[Parallel(n_jobs=8)]: Done 100 out of 100 | elapsed:    0.0s finished\n"
     ]
    }
   ],
   "source": [
    "## Test: Classifying a provided YouTube Transcript\n",
    "print(scrape_youtube_transcript(rf, 'https://www.youtube.com/watch?v=aCyGvGEtOwc'))"
   ]
  }
 ],
 "metadata": {
  "kernelspec": {
   "display_name": "base",
   "language": "python",
   "name": "python3"
  },
  "language_info": {
   "codemirror_mode": {
    "name": "ipython",
    "version": 3
   },
   "file_extension": ".py",
   "mimetype": "text/x-python",
   "name": "python",
   "nbconvert_exporter": "python",
   "pygments_lexer": "ipython3",
   "version": "3.11.5"
  }
 },
 "nbformat": 4,
 "nbformat_minor": 2
}
